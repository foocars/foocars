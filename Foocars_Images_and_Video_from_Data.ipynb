{
  "nbformat": 4,
  "nbformat_minor": 0,
  "metadata": {
    "colab": {
      "name": "Copy of Foocars Images and Video from Data",
      "version": "0.3.2",
      "provenance": [],
      "collapsed_sections": [],
      "toc_visible": true,
      "include_colab_link": true
    },
    "kernelspec": {
      "name": "python3",
      "display_name": "Python 3"
    },
    "accelerator": "GPU"
  },
  "cells": [
    {
      "cell_type": "markdown",
      "metadata": {
        "id": "view-in-github",
        "colab_type": "text"
      },
      "source": [
        "<a href=\"https://colab.research.google.com/github/lcipolina/foocars/blob/lucia/Foocars_Images_and_Video_from_Data.ipynb\" target=\"_parent\"><img src=\"https://colab.research.google.com/assets/colab-badge.svg\" alt=\"Open In Colab\"/></a>"
      ]
    },
    {
      "cell_type": "markdown",
      "metadata": {
        "id": "nnTM4nkzFO2N",
        "colab_type": "text"
      },
      "source": [
        "# Foocars Images and Video from Data Collected"
      ]
    },
    {
      "cell_type": "code",
      "metadata": {
        "id": "A25531p8GCDM",
        "colab_type": "code",
        "colab": {}
      },
      "source": [
        "import numpy as np"
      ],
      "execution_count": 0,
      "outputs": []
    },
    {
      "cell_type": "code",
      "metadata": {
        "id": "9fbD8AGRLIff",
        "colab_type": "code",
        "outputId": "ffd4bd14-22f3-45bd-8596-dfc87ada38b0",
        "colab": {
          "base_uri": "https://localhost:8080/",
          "height": 35
        }
      },
      "source": [
        "# Load data from a shared folder in Google Drive \n",
        "# Tutorial: https://towardsdatascience.com/3-ways-to-load-csv-files-into-colab-7c14fcbdcb92\n",
        "\n",
        "import tarfile\n",
        "\n",
        "# User inputs\n",
        "fileID='https://drive.google.com/open?id=1jtW5aSS6dj1DNmxr87iHf1bzkBB1A3Km' # The shareable link to steelroses data\n",
        "file  = 'steelroses.collected.tar.gz'\n", 
        "\n",
        "# Code to read csv file into Colaboratory:\n",
        "!pip install -U -q PyDrive\n",
        "from pydrive.auth  import GoogleAuth\n",
        "from pydrive.drive import GoogleDrive\n",
        "from google.colab  import auth\n",
        "from oauth2client.client import GoogleCredentials\n",
        "# Authenticate and create the PyDrive client.\n",
        "auth.authenticate_user()\n",
        "gauth             = GoogleAuth()\n",
        "gauth.credentials = GoogleCredentials.get_application_default()\n",
        "drive             = GoogleDrive(gauth)\n",
        "link              = fileID\n",
        "fluff, id         = link.split('=')\n",
        "print (id) # Verify that you have everything after '='\n",
        "downloaded        = drive.CreateFile({'id':id}) \n",
        "\n",
        "downloaded.GetContentFile(file) \n",
        "\n",
        "#tar = tarfile.open(file , \"r:gz\")\n",
        "#Uncompress file into a folder called 'collected'\n",
        "#!tar xvzf steelroses.collected.tar.gz #verbose version\n",
        "!tar xzf steelroses.collected.tar.gz #not verbose"
      ],
      "execution_count": 3,
      "outputs": [
        {
          "output_type": "stream",
          "text": [
            "1jtW5aSS6dj1DNmxr87iHf1bzkBB1A3Km\n"
          ],
          "name": "stdout"
        }
      ]
    },
    {
      "cell_type": "code",
      "metadata": {
        "id": "g5Z0hbxlLmT-",
        "colab_type": "code",
        "outputId": "80c9291a-1660-4783-ff90-eabae5b9765f",
        "colab": {
          "base_uri": "https://localhost:8080/",
          "height": 35
        }
      },
      "source": [
        "!ls"
      ],
      "execution_count": 0,
      "outputs": [
        {
          "output_type": "stream",
          "text": [
            "adc.json  collected  sample_data  steelroses.collected.tar.gz\n"
          ],
          "name": "stdout"
        }
      ]
    },
    {
      "cell_type": "code",
      "metadata": {
        "id": "7MNbhv8cMF61",
        "colab_type": "code",
        "outputId": "851bc01c-dd8f-4195-91cb-3e0f99bcff1f",
        "colab": {
          "base_uri": "https://localhost:8080/",
          "height": 8424
        }
      },
      "source": [
        "#Test if file exists\n",
        "%cd collected\n",
        "!test -f 'imgs_2018-12-06_12-54-17.npz'"
      ],
      "execution_count": 0,
      "outputs": [
        {
          "output_type": "stream",
          "text": [
            "commands_2018-12-06_12-54-17.npz  imgs_2018-12-06_15-36-11.npz\n",
            "commands_2018-12-06_12-59-38.npz  imgs_2018-12-06_15-36-16.npz\n",
            "commands_2018-12-06_12-59-43.npz  imgs_2018-12-06_15-36-21.npz\n",
            "commands_2018-12-06_12-59-48.npz  imgs_2018-12-06_15-36-26.npz\n",
            "commands_2018-12-06_12-59-53.npz  imgs_2018-12-06_15-36-28.npz\n",
            "commands_2018-12-06_12-59-58.npz  imgs_2018-12-06_15-36-46.npz\n",
            "commands_2018-12-06_13-00-03.npz  imgs_2018-12-06_15-36-51.npz\n",
            "commands_2018-12-06_13-00-08.npz  imgs_2018-12-06_15-36-56.npz\n",
            "commands_2018-12-06_13-00-13.npz  imgs_2018-12-06_15-37-01.npz\n",
            "commands_2018-12-06_13-00-18.npz  imgs_2018-12-06_15-37-06.npz\n",
            "commands_2018-12-06_13-00-23.npz  imgs_2018-12-06_15-37-11.npz\n",
            "commands_2018-12-06_13-00-28.npz  imgs_2018-12-06_15-37-16.npz\n",
            "commands_2018-12-06_13-00-33.npz  imgs_2018-12-06_15-37-21.npz\n",
            "commands_2018-12-06_13-00-38.npz  imgs_2018-12-06_15-37-26.npz\n",
            "commands_2018-12-06_13-00-43.npz  imgs_2018-12-06_15-37-31.npz\n",
            "commands_2018-12-06_13-00-48.npz  imgs_2018-12-06_15-37-36.npz\n",
            "commands_2018-12-06_13-00-53.npz  imgs_2018-12-06_15-37-41.npz\n",
            "commands_2018-12-06_13-00-58.npz  imgs_2018-12-06_15-37-46.npz\n",
            "commands_2018-12-06_13-01-03.npz  imgs_2018-12-06_15-37-51.npz\n",
            "commands_2018-12-06_13-01-08.npz  imgs_2018-12-06_15-37-56.npz\n",
            "commands_2018-12-06_13-01-13.npz  imgs_2018-12-06_15-38-01.npz\n",
            "commands_2018-12-06_13-01-18.npz  imgs_2018-12-06_15-38-06.npz\n",
            "commands_2018-12-06_13-01-23.npz  imgs_2018-12-06_15-38-11.npz\n",
            "commands_2018-12-06_13-01-28.npz  imgs_2018-12-06_15-38-16.npz\n",
            "commands_2018-12-06_13-01-33.npz  imgs_2018-12-06_15-38-21.npz\n",
            "commands_2018-12-06_13-01-38.npz  imgs_2018-12-06_15-38-26.npz\n",
            "commands_2018-12-06_13-01-43.npz  imgs_2018-12-06_15-38-31.npz\n",
            "commands_2018-12-06_13-01-48.npz  imgs_2018-12-06_15-38-36.npz\n",
            "commands_2018-12-06_13-01-53.npz  imgs_2018-12-06_15-38-41.npz\n",
            "commands_2018-12-06_13-01-58.npz  imgs_2018-12-06_15-38-46.npz\n",
            "commands_2018-12-06_13-02-03.npz  imgs_2018-12-06_15-38-51.npz\n",
            "commands_2018-12-06_13-02-08.npz  imgs_2018-12-06_15-38-56.npz\n",
            "commands_2018-12-06_13-02-13.npz  imgs_2018-12-06_15-39-01.npz\n",
            "commands_2018-12-06_13-02-18.npz  imgs_2018-12-06_15-39-06.npz\n",
            "commands_2018-12-06_13-02-21.npz  imgs_2018-12-06_15-39-11.npz\n",
            "commands_2018-12-06_13-30-23.npz  imgs_2018-12-06_15-39-16.npz\n",
            "commands_2018-12-06_13-30-28.npz  imgs_2018-12-06_15-39-21.npz\n",
            "commands_2018-12-06_13-30-33.npz  imgs_2018-12-06_15-39-26.npz\n",
            "commands_2018-12-06_13-30-38.npz  imgs_2018-12-06_15-39-31.npz\n",
            "commands_2018-12-06_13-30-43.npz  imgs_2018-12-06_15-39-36.npz\n",
            "commands_2018-12-06_13-30-48.npz  imgs_2018-12-06_15-39-41.npz\n",
            "commands_2018-12-06_13-30-53.npz  imgs_2018-12-06_15-39-46.npz\n",
            "commands_2018-12-06_13-30-58.npz  imgs_2018-12-06_15-39-51.npz\n",
            "commands_2018-12-06_13-31-03.npz  imgs_2018-12-06_15-39-56.npz\n",
            "commands_2018-12-06_13-31-08.npz  imgs_2018-12-06_15-40-01.npz\n",
            "commands_2018-12-06_13-31-13.npz  imgs_2018-12-06_15-40-05.npz\n",
            "commands_2018-12-06_13-31-18.npz  imgs_2018-12-06_15-40-27.npz\n",
            "commands_2018-12-06_13-31-23.npz  imgs_2018-12-06_15-40-32.npz\n",
            "commands_2018-12-06_13-31-28.npz  imgs_2018-12-06_15-40-37.npz\n",
            "commands_2018-12-06_13-31-33.npz  imgs_2018-12-06_15-40-42.npz\n",
            "commands_2018-12-06_13-31-38.npz  imgs_2018-12-06_15-40-47.npz\n",
            "commands_2018-12-06_13-31-43.npz  imgs_2018-12-06_15-40-52.npz\n",
            "commands_2018-12-06_13-31-48.npz  imgs_2018-12-06_15-40-57.npz\n",
            "commands_2018-12-06_13-31-53.npz  imgs_2018-12-06_15-41-02.npz\n",
            "commands_2018-12-06_13-31-58.npz  imgs_2018-12-06_15-41-07.npz\n",
            "commands_2018-12-06_13-32-03.npz  imgs_2018-12-06_15-41-12.npz\n",
            "commands_2018-12-06_13-32-08.npz  imgs_2018-12-06_15-41-17.npz\n",
            "commands_2018-12-06_13-32-13.npz  imgs_2018-12-06_15-41-22.npz\n",
            "commands_2018-12-06_13-32-18.npz  imgs_2018-12-06_15-41-27.npz\n",
            "commands_2018-12-06_13-32-23.npz  imgs_2018-12-06_15-41-32.npz\n",
            "commands_2018-12-06_13-32-28.npz  imgs_2018-12-06_15-41-37.npz\n",
            "commands_2018-12-06_13-32-33.npz  imgs_2018-12-06_15-41-42.npz\n",
            "commands_2018-12-06_13-32-38.npz  imgs_2018-12-06_15-41-47.npz\n",
            "commands_2018-12-06_13-32-43.npz  imgs_2018-12-06_15-41-52.npz\n",
            "commands_2018-12-06_13-32-48.npz  imgs_2018-12-06_15-41-57.npz\n",
            "commands_2018-12-06_13-32-53.npz  imgs_2018-12-06_15-42-02.npz\n",
            "commands_2018-12-06_13-32-58.npz  imgs_2018-12-06_15-42-07.npz\n",
            "commands_2018-12-06_13-33-03.npz  imgs_2018-12-06_15-42-12.npz\n",
            "commands_2018-12-06_13-33-08.npz  imgs_2018-12-06_15-42-17.npz\n",
            "commands_2018-12-06_13-33-13.npz  imgs_2018-12-06_15-42-22.npz\n",
            "commands_2018-12-06_13-33-18.npz  imgs_2018-12-06_15-42-27.npz\n",
            "commands_2018-12-06_13-33-23.npz  imgs_2018-12-06_15-42-32.npz\n",
            "commands_2018-12-06_13-33-28.npz  imgs_2018-12-06_15-42-37.npz\n",
            "commands_2018-12-06_13-33-33.npz  imgs_2018-12-06_15-42-42.npz\n",
            "commands_2018-12-06_13-33-38.npz  imgs_2018-12-06_15-42-46.npz\n",
            "commands_2018-12-06_13-33-43.npz  imgs_2018-12-06_15-43-05.npz\n",
            "commands_2018-12-06_13-33-48.npz  imgs_2018-12-06_15-43-10.npz\n",
            "commands_2018-12-06_13-33-53.npz  imgs_2018-12-06_15-43-15.npz\n",
            "commands_2018-12-06_13-33-58.npz  imgs_2018-12-06_15-43-18.npz\n",
            "commands_2018-12-06_13-34-03.npz  imgs_2018-12-06_15-49-54.npz\n",
            "commands_2018-12-06_13-34-08.npz  imgs_2018-12-06_15-49-59.npz\n",
            "commands_2018-12-06_13-34-13.npz  imgs_2018-12-06_15-50-04.npz\n",
            "commands_2018-12-06_13-34-18.npz  imgs_2018-12-06_15-50-09.npz\n",
            "commands_2018-12-06_13-34-23.npz  imgs_2018-12-06_15-50-14.npz\n",
            "commands_2018-12-06_13-34-28.npz  imgs_2018-12-06_15-50-19.npz\n",
            "commands_2018-12-06_13-34-33.npz  imgs_2018-12-06_15-50-24.npz\n",
            "commands_2018-12-06_13-34-38.npz  imgs_2018-12-06_15-50-29.npz\n",
            "commands_2018-12-06_13-34-43.npz  imgs_2018-12-06_15-50-34.npz\n",
            "commands_2018-12-06_13-34-48.npz  imgs_2018-12-06_15-50-39.npz\n",
            "commands_2018-12-06_13-34-53.npz  imgs_2018-12-06_15-50-44.npz\n",
            "commands_2018-12-06_13-34-58.npz  imgs_2018-12-06_15-50-49.npz\n",
            "commands_2018-12-06_13-35-03.npz  imgs_2018-12-06_15-50-54.npz\n",
            "commands_2018-12-06_13-35-08.npz  imgs_2018-12-06_15-50-59.npz\n",
            "commands_2018-12-06_14-58-51.npz  imgs_2018-12-15_11-26-03.npz\n",
            "commands_2018-12-06_15-20-53.npz  imgs_2018-12-15_11-28-05.npz\n",
            "commands_2018-12-06_15-20-58.npz  imgs_2018-12-15_11-28-10.npz\n",
            "commands_2018-12-06_15-21-03.npz  imgs_2018-12-15_11-28-15.npz\n",
            "commands_2018-12-06_15-21-08.npz  imgs_2018-12-15_11-28-20.npz\n",
            "commands_2018-12-06_15-21-13.npz  imgs_2018-12-15_11-37-39.npz\n",
            "commands_2018-12-06_15-21-18.npz  imgs_2018-12-15_11-51-21.npz\n",
            "commands_2018-12-06_15-21-23.npz  imgs_2018-12-15_11-51-26.npz\n",
            "commands_2018-12-06_15-21-28.npz  imgs_2018-12-15_11-51-28.npz\n",
            "commands_2018-12-06_15-21-33.npz  imgs_2018-12-15_12-34-06.npz\n",
            "commands_2018-12-06_15-21-38.npz  imgs_2018-12-15_12-50-30.npz\n",
            "commands_2018-12-06_15-21-43.npz  imgs_2018-12-15_12-57-21.npz\n",
            "commands_2018-12-06_15-21-48.npz  imgs_2018-12-15_12-57-26.npz\n",
            "commands_2018-12-06_15-21-53.npz  imgs_2018-12-15_12-57-31.npz\n",
            "commands_2018-12-06_15-22-00.npz  imgs_2018-12-15_12-57-36.npz\n",
            "commands_2018-12-06_15-22-05.npz  imgs_2018-12-15_12-57-41.npz\n",
            "commands_2018-12-06_15-22-10.npz  imgs_2018-12-15_12-57-46.npz\n",
            "commands_2018-12-06_15-22-15.npz  imgs_2018-12-15_12-57-51.npz\n",
            "commands_2018-12-06_15-22-20.npz  imgs_2018-12-15_12-57-56.npz\n",
            "commands_2018-12-06_15-22-25.npz  imgs_2018-12-15_12-58-01.npz\n",
            "commands_2018-12-06_15-22-30.npz  imgs_2018-12-15_12-58-06.npz\n",
            "commands_2018-12-06_15-22-35.npz  imgs_2018-12-15_12-58-11.npz\n",
            "commands_2018-12-06_15-22-40.npz  imgs_2018-12-15_12-58-16.npz\n",
            "commands_2018-12-06_15-22-45.npz  imgs_2018-12-15_12-58-21.npz\n",
            "commands_2018-12-06_15-22-50.npz  imgs_2018-12-15_12-58-26.npz\n",
            "commands_2018-12-06_15-22-55.npz  imgs_2018-12-15_12-58-31.npz\n",
            "commands_2018-12-06_15-23-00.npz  imgs_2018-12-15_12-58-36.npz\n",
            "commands_2018-12-06_15-23-05.npz  imgs_2018-12-15_12-58-41.npz\n",
            "commands_2018-12-06_15-23-10.npz  imgs_2018-12-15_12-58-46.npz\n",
            "commands_2018-12-06_15-23-15.npz  imgs_2018-12-15_12-58-51.npz\n",
            "commands_2018-12-06_15-23-20.npz  imgs_2018-12-15_12-58-56.npz\n",
            "commands_2018-12-06_15-23-25.npz  imgs_2018-12-15_12-59-01.npz\n",
            "commands_2018-12-06_15-23-30.npz  imgs_2018-12-15_12-59-06.npz\n",
            "commands_2018-12-06_15-23-35.npz  imgs_2018-12-15_13-52-21.npz\n",
            "commands_2018-12-06_15-27-31.npz  imgs_2019-02-25_16-17-31.npz\n",
            "commands_2018-12-06_15-27-36.npz  imgs_2019-02-25_16-24-59.npz\n",
            "commands_2018-12-06_15-27-41.npz  imgs_2019-02-25_16-36-09.npz\n",
            "commands_2018-12-06_15-27-46.npz  imgs_2019-02-25_16-36-14.npz\n",
            "commands_2018-12-06_15-27-51.npz  imgs_2019-02-25_16-36-19.npz\n",
            "commands_2018-12-06_15-27-56.npz  imgs_2019-02-25_16-36-24.npz\n",
            "commands_2018-12-06_15-28-01.npz  imgs_2019-02-25_16-36-29.npz\n",
            "commands_2018-12-06_15-28-06.npz  imgs_2019-02-25_16-36-34.npz\n",
            "commands_2018-12-06_15-28-11.npz  imgs_2019-02-25_16-36-39.npz\n",
            "commands_2018-12-06_15-28-16.npz  imgs_2019-02-25_16-36-44.npz\n",
            "commands_2018-12-06_15-28-21.npz  imgs_2019-02-25_16-36-49.npz\n",
            "commands_2018-12-06_15-28-26.npz  imgs_2019-02-25_16-36-54.npz\n",
            "commands_2018-12-06_15-28-31.npz  imgs_2019-02-25_16-36-59.npz\n",
            "commands_2018-12-06_15-28-36.npz  imgs_2019-02-25_16-37-04.npz\n",
            "commands_2018-12-06_15-28-41.npz  imgs_2019-02-25_16-37-09.npz\n",
            "commands_2018-12-06_15-28-46.npz  imgs_2019-02-25_16-37-14.npz\n",
            "commands_2018-12-06_15-28-51.npz  imgs_2019-02-25_16-37-19.npz\n",
            "commands_2018-12-06_15-28-56.npz  imgs_2019-02-25_16-37-23.npz\n",
            "commands_2018-12-06_15-29-01.npz  imgs_2019-02-25_16-37-29.npz\n",
            "commands_2018-12-06_15-29-06.npz  imgs_2019-02-25_16-37-33.npz\n",
            "commands_2018-12-06_15-29-11.npz  imgs_2019-02-25_16-37-38.npz\n",
            "commands_2018-12-06_15-29-16.npz  imgs_2019-02-25_16-37-43.npz\n",
            "commands_2018-12-06_15-29-21.npz  imgs_2019-02-25_16-37-48.npz\n",
            "commands_2018-12-06_15-29-26.npz  imgs_2019-02-25_16-37-53.npz\n",
            "commands_2018-12-06_15-29-31.npz  imgs_2019-02-25_16-37-58.npz\n",
            "commands_2018-12-06_15-29-36.npz  imgs_2019-02-25_16-38-03.npz\n",
            "commands_2018-12-06_15-29-41.npz  imgs_2019-02-25_16-38-08.npz\n",
            "commands_2018-12-06_15-29-46.npz  imgs_2019-02-25_16-38-13.npz\n",
            "commands_2018-12-06_15-29-51.npz  imgs_2019-02-25_16-38-18.npz\n",
            "commands_2018-12-06_15-29-56.npz  imgs_2019-02-25_16-38-23.npz\n",
            "commands_2018-12-06_15-30-01.npz  imgs_2019-02-25_16-38-28.npz\n",
            "commands_2018-12-06_15-30-06.npz  imgs_2019-02-25_16-38-33.npz\n",
            "commands_2018-12-06_15-30-11.npz  imgs_2019-02-25_16-38-38.npz\n",
            "commands_2018-12-06_15-30-16.npz  imgs_2019-02-25_16-38-43.npz\n",
            "commands_2018-12-06_15-30-20.npz  IMU_2018-12-06_12-54-17.npz\n",
            "commands_2018-12-06_15-36-11.npz  IMU_2018-12-06_12-59-38.npz\n",
            "commands_2018-12-06_15-36-16.npz  IMU_2018-12-06_12-59-43.npz\n",
            "commands_2018-12-06_15-36-21.npz  IMU_2018-12-06_12-59-48.npz\n",
            "commands_2018-12-06_15-36-26.npz  IMU_2018-12-06_12-59-53.npz\n",
            "commands_2018-12-06_15-36-28.npz  IMU_2018-12-06_12-59-58.npz\n",
            "commands_2018-12-06_15-36-46.npz  IMU_2018-12-06_13-00-03.npz\n",
            "commands_2018-12-06_15-36-51.npz  IMU_2018-12-06_13-00-08.npz\n",
            "commands_2018-12-06_15-36-56.npz  IMU_2018-12-06_13-00-13.npz\n",
            "commands_2018-12-06_15-37-01.npz  IMU_2018-12-06_13-00-18.npz\n",
            "commands_2018-12-06_15-37-06.npz  IMU_2018-12-06_13-00-23.npz\n",
            "commands_2018-12-06_15-37-11.npz  IMU_2018-12-06_13-00-28.npz\n",
            "commands_2018-12-06_15-37-16.npz  IMU_2018-12-06_13-00-33.npz\n",
            "commands_2018-12-06_15-37-21.npz  IMU_2018-12-06_13-00-38.npz\n",
            "commands_2018-12-06_15-37-26.npz  IMU_2018-12-06_13-00-43.npz\n",
            "commands_2018-12-06_15-37-31.npz  IMU_2018-12-06_13-00-48.npz\n",
            "commands_2018-12-06_15-37-36.npz  IMU_2018-12-06_13-00-53.npz\n",
            "commands_2018-12-06_15-37-41.npz  IMU_2018-12-06_13-00-58.npz\n",
            "commands_2018-12-06_15-37-46.npz  IMU_2018-12-06_13-01-03.npz\n",
            "commands_2018-12-06_15-37-51.npz  IMU_2018-12-06_13-01-08.npz\n",
            "commands_2018-12-06_15-37-56.npz  IMU_2018-12-06_13-01-13.npz\n",
            "commands_2018-12-06_15-38-01.npz  IMU_2018-12-06_13-01-18.npz\n",
            "commands_2018-12-06_15-38-06.npz  IMU_2018-12-06_13-01-23.npz\n",
            "commands_2018-12-06_15-38-11.npz  IMU_2018-12-06_13-01-28.npz\n",
            "commands_2018-12-06_15-38-16.npz  IMU_2018-12-06_13-01-33.npz\n",
            "commands_2018-12-06_15-38-21.npz  IMU_2018-12-06_13-01-38.npz\n",
            "commands_2018-12-06_15-38-26.npz  IMU_2018-12-06_13-01-43.npz\n",
            "commands_2018-12-06_15-38-31.npz  IMU_2018-12-06_13-01-48.npz\n",
            "commands_2018-12-06_15-38-36.npz  IMU_2018-12-06_13-01-53.npz\n",
            "commands_2018-12-06_15-38-41.npz  IMU_2018-12-06_13-01-58.npz\n",
            "commands_2018-12-06_15-38-46.npz  IMU_2018-12-06_13-02-03.npz\n",
            "commands_2018-12-06_15-38-51.npz  IMU_2018-12-06_13-02-08.npz\n",
            "commands_2018-12-06_15-38-56.npz  IMU_2018-12-06_13-02-13.npz\n",
            "commands_2018-12-06_15-39-01.npz  IMU_2018-12-06_13-02-18.npz\n",
            "commands_2018-12-06_15-39-06.npz  IMU_2018-12-06_13-02-21.npz\n",
            "commands_2018-12-06_15-39-11.npz  IMU_2018-12-06_13-30-23.npz\n",
            "commands_2018-12-06_15-39-16.npz  IMU_2018-12-06_13-30-28.npz\n",
            "commands_2018-12-06_15-39-21.npz  IMU_2018-12-06_13-30-33.npz\n",
            "commands_2018-12-06_15-39-26.npz  IMU_2018-12-06_13-30-38.npz\n",
            "commands_2018-12-06_15-39-31.npz  IMU_2018-12-06_13-30-43.npz\n",
            "commands_2018-12-06_15-39-36.npz  IMU_2018-12-06_13-30-48.npz\n",
            "commands_2018-12-06_15-39-41.npz  IMU_2018-12-06_13-30-53.npz\n",
            "commands_2018-12-06_15-39-46.npz  IMU_2018-12-06_13-30-58.npz\n",
            "commands_2018-12-06_15-39-51.npz  IMU_2018-12-06_13-31-03.npz\n",
            "commands_2018-12-06_15-39-56.npz  IMU_2018-12-06_13-31-08.npz\n",
            "commands_2018-12-06_15-40-01.npz  IMU_2018-12-06_13-31-13.npz\n",
            "commands_2018-12-06_15-40-05.npz  IMU_2018-12-06_13-31-18.npz\n",
            "commands_2018-12-06_15-40-27.npz  IMU_2018-12-06_13-31-23.npz\n",
            "commands_2018-12-06_15-40-32.npz  IMU_2018-12-06_13-31-28.npz\n",
            "commands_2018-12-06_15-40-37.npz  IMU_2018-12-06_13-31-33.npz\n",
            "commands_2018-12-06_15-40-42.npz  IMU_2018-12-06_13-31-38.npz\n",
            "commands_2018-12-06_15-40-47.npz  IMU_2018-12-06_13-31-43.npz\n",
            "commands_2018-12-06_15-40-52.npz  IMU_2018-12-06_13-31-48.npz\n",
            "commands_2018-12-06_15-40-57.npz  IMU_2018-12-06_13-31-53.npz\n",
            "commands_2018-12-06_15-41-02.npz  IMU_2018-12-06_13-31-58.npz\n",
            "commands_2018-12-06_15-41-07.npz  IMU_2018-12-06_13-32-03.npz\n",
            "commands_2018-12-06_15-41-12.npz  IMU_2018-12-06_13-32-08.npz\n",
            "commands_2018-12-06_15-41-17.npz  IMU_2018-12-06_13-32-13.npz\n",
            "commands_2018-12-06_15-41-22.npz  IMU_2018-12-06_13-32-18.npz\n",
            "commands_2018-12-06_15-41-27.npz  IMU_2018-12-06_13-32-23.npz\n",
            "commands_2018-12-06_15-41-32.npz  IMU_2018-12-06_13-32-28.npz\n",
            "commands_2018-12-06_15-41-37.npz  IMU_2018-12-06_13-32-33.npz\n",
            "commands_2018-12-06_15-41-42.npz  IMU_2018-12-06_13-32-38.npz\n",
            "commands_2018-12-06_15-41-47.npz  IMU_2018-12-06_13-32-43.npz\n",
            "commands_2018-12-06_15-41-52.npz  IMU_2018-12-06_13-32-48.npz\n",
            "commands_2018-12-06_15-41-57.npz  IMU_2018-12-06_13-32-53.npz\n",
            "commands_2018-12-06_15-42-02.npz  IMU_2018-12-06_13-32-58.npz\n",
            "commands_2018-12-06_15-42-07.npz  IMU_2018-12-06_13-33-03.npz\n",
            "commands_2018-12-06_15-42-12.npz  IMU_2018-12-06_13-33-08.npz\n",
            "commands_2018-12-06_15-42-17.npz  IMU_2018-12-06_13-33-13.npz\n",
            "commands_2018-12-06_15-42-22.npz  IMU_2018-12-06_13-33-18.npz\n",
            "commands_2018-12-06_15-42-27.npz  IMU_2018-12-06_13-33-23.npz\n",
            "commands_2018-12-06_15-42-32.npz  IMU_2018-12-06_13-33-28.npz\n",
            "commands_2018-12-06_15-42-37.npz  IMU_2018-12-06_13-33-33.npz\n",
            "commands_2018-12-06_15-42-42.npz  IMU_2018-12-06_13-33-38.npz\n",
            "commands_2018-12-06_15-42-46.npz  IMU_2018-12-06_13-33-43.npz\n",
            "commands_2018-12-06_15-43-05.npz  IMU_2018-12-06_13-33-48.npz\n",
            "commands_2018-12-06_15-43-10.npz  IMU_2018-12-06_13-33-53.npz\n",
            "commands_2018-12-06_15-43-15.npz  IMU_2018-12-06_13-33-58.npz\n",
            "commands_2018-12-06_15-43-18.npz  IMU_2018-12-06_13-34-03.npz\n",
            "commands_2018-12-06_15-49-54.npz  IMU_2018-12-06_13-34-08.npz\n",
            "commands_2018-12-06_15-49-59.npz  IMU_2018-12-06_13-34-13.npz\n",
            "commands_2018-12-06_15-50-04.npz  IMU_2018-12-06_13-34-18.npz\n",
            "commands_2018-12-06_15-50-09.npz  IMU_2018-12-06_13-34-23.npz\n",
            "commands_2018-12-06_15-50-14.npz  IMU_2018-12-06_13-34-28.npz\n",
            "commands_2018-12-06_15-50-19.npz  IMU_2018-12-06_13-34-33.npz\n",
            "commands_2018-12-06_15-50-24.npz  IMU_2018-12-06_13-34-38.npz\n",
            "commands_2018-12-06_15-50-29.npz  IMU_2018-12-06_13-34-43.npz\n",
            "commands_2018-12-06_15-50-34.npz  IMU_2018-12-06_13-34-48.npz\n",
            "commands_2018-12-06_15-50-39.npz  IMU_2018-12-06_13-34-53.npz\n",
            "commands_2018-12-06_15-50-44.npz  IMU_2018-12-06_13-34-58.npz\n",
            "commands_2018-12-06_15-50-49.npz  IMU_2018-12-06_13-35-03.npz\n",
            "commands_2018-12-06_15-50-54.npz  IMU_2018-12-06_13-35-08.npz\n",
            "commands_2018-12-06_15-50-59.npz  IMU_2018-12-06_14-58-51.npz\n",
            "commands_2018-12-15_11-26-03.npz  IMU_2018-12-06_15-20-53.npz\n",
            "commands_2018-12-15_11-28-05.npz  IMU_2018-12-06_15-20-58.npz\n",
            "commands_2018-12-15_11-28-10.npz  IMU_2018-12-06_15-21-03.npz\n",
            "commands_2018-12-15_11-28-15.npz  IMU_2018-12-06_15-21-08.npz\n",
            "commands_2018-12-15_11-28-20.npz  IMU_2018-12-06_15-21-13.npz\n",
            "commands_2018-12-15_11-37-39.npz  IMU_2018-12-06_15-21-18.npz\n",
            "commands_2018-12-15_11-51-21.npz  IMU_2018-12-06_15-21-23.npz\n",
            "commands_2018-12-15_11-51-26.npz  IMU_2018-12-06_15-21-28.npz\n",
            "commands_2018-12-15_11-51-28.npz  IMU_2018-12-06_15-21-33.npz\n",
            "commands_2018-12-15_12-34-06.npz  IMU_2018-12-06_15-21-38.npz\n",
            "commands_2018-12-15_12-50-30.npz  IMU_2018-12-06_15-21-43.npz\n",
            "commands_2018-12-15_12-57-21.npz  IMU_2018-12-06_15-21-48.npz\n",
            "commands_2018-12-15_12-57-26.npz  IMU_2018-12-06_15-21-53.npz\n",
            "commands_2018-12-15_12-57-31.npz  IMU_2018-12-06_15-22-00.npz\n",
            "commands_2018-12-15_12-57-36.npz  IMU_2018-12-06_15-22-05.npz\n",
            "commands_2018-12-15_12-57-41.npz  IMU_2018-12-06_15-22-10.npz\n",
            "commands_2018-12-15_12-57-46.npz  IMU_2018-12-06_15-22-15.npz\n",
            "commands_2018-12-15_12-57-51.npz  IMU_2018-12-06_15-22-20.npz\n",
            "commands_2018-12-15_12-57-56.npz  IMU_2018-12-06_15-22-25.npz\n",
            "commands_2018-12-15_12-58-01.npz  IMU_2018-12-06_15-22-30.npz\n",
            "commands_2018-12-15_12-58-06.npz  IMU_2018-12-06_15-22-35.npz\n",
            "commands_2018-12-15_12-58-11.npz  IMU_2018-12-06_15-22-40.npz\n",
            "commands_2018-12-15_12-58-16.npz  IMU_2018-12-06_15-22-45.npz\n",
            "commands_2018-12-15_12-58-21.npz  IMU_2018-12-06_15-22-50.npz\n",
            "commands_2018-12-15_12-58-26.npz  IMU_2018-12-06_15-22-55.npz\n",
            "commands_2018-12-15_12-58-31.npz  IMU_2018-12-06_15-23-00.npz\n",
            "commands_2018-12-15_12-58-36.npz  IMU_2018-12-06_15-23-05.npz\n",
            "commands_2018-12-15_12-58-41.npz  IMU_2018-12-06_15-23-10.npz\n",
            "commands_2018-12-15_12-58-46.npz  IMU_2018-12-06_15-23-15.npz\n",
            "commands_2018-12-15_12-58-51.npz  IMU_2018-12-06_15-23-20.npz\n",
            "commands_2018-12-15_12-58-56.npz  IMU_2018-12-06_15-23-25.npz\n",
            "commands_2018-12-15_12-59-01.npz  IMU_2018-12-06_15-23-30.npz\n",
            "commands_2018-12-15_12-59-06.npz  IMU_2018-12-06_15-23-35.npz\n",
            "commands_2018-12-15_13-52-21.npz  IMU_2018-12-06_15-27-31.npz\n",
            "commands_2019-02-25_16-17-31.npz  IMU_2018-12-06_15-27-36.npz\n",
            "commands_2019-02-25_16-24-59.npz  IMU_2018-12-06_15-27-41.npz\n",
            "commands_2019-02-25_16-36-09.npz  IMU_2018-12-06_15-27-46.npz\n",
            "commands_2019-02-25_16-36-14.npz  IMU_2018-12-06_15-27-51.npz\n",
            "commands_2019-02-25_16-36-19.npz  IMU_2018-12-06_15-27-56.npz\n",
            "commands_2019-02-25_16-36-24.npz  IMU_2018-12-06_15-28-01.npz\n",
            "commands_2019-02-25_16-36-29.npz  IMU_2018-12-06_15-28-06.npz\n",
            "commands_2019-02-25_16-36-34.npz  IMU_2018-12-06_15-28-11.npz\n",
            "commands_2019-02-25_16-36-39.npz  IMU_2018-12-06_15-28-16.npz\n",
            "commands_2019-02-25_16-36-44.npz  IMU_2018-12-06_15-28-21.npz\n",
            "commands_2019-02-25_16-36-49.npz  IMU_2018-12-06_15-28-26.npz\n",
            "commands_2019-02-25_16-36-54.npz  IMU_2018-12-06_15-28-31.npz\n",
            "commands_2019-02-25_16-36-59.npz  IMU_2018-12-06_15-28-36.npz\n",
            "commands_2019-02-25_16-37-04.npz  IMU_2018-12-06_15-28-41.npz\n",
            "commands_2019-02-25_16-37-09.npz  IMU_2018-12-06_15-28-46.npz\n",
            "commands_2019-02-25_16-37-14.npz  IMU_2018-12-06_15-28-51.npz\n",
            "commands_2019-02-25_16-37-19.npz  IMU_2018-12-06_15-28-56.npz\n",
            "commands_2019-02-25_16-37-23.npz  IMU_2018-12-06_15-29-01.npz\n",
            "commands_2019-02-25_16-37-29.npz  IMU_2018-12-06_15-29-06.npz\n",
            "commands_2019-02-25_16-37-33.npz  IMU_2018-12-06_15-29-11.npz\n",
            "commands_2019-02-25_16-37-38.npz  IMU_2018-12-06_15-29-16.npz\n",
            "commands_2019-02-25_16-37-43.npz  IMU_2018-12-06_15-29-21.npz\n",
            "commands_2019-02-25_16-37-48.npz  IMU_2018-12-06_15-29-26.npz\n",
            "commands_2019-02-25_16-37-53.npz  IMU_2018-12-06_15-29-31.npz\n",
            "commands_2019-02-25_16-37-58.npz  IMU_2018-12-06_15-29-36.npz\n",
            "commands_2019-02-25_16-38-03.npz  IMU_2018-12-06_15-29-41.npz\n",
            "commands_2019-02-25_16-38-08.npz  IMU_2018-12-06_15-29-46.npz\n",
            "commands_2019-02-25_16-38-13.npz  IMU_2018-12-06_15-29-51.npz\n",
            "commands_2019-02-25_16-38-18.npz  IMU_2018-12-06_15-29-56.npz\n",
            "commands_2019-02-25_16-38-23.npz  IMU_2018-12-06_15-30-01.npz\n",
            "commands_2019-02-25_16-38-28.npz  IMU_2018-12-06_15-30-06.npz\n",
            "commands_2019-02-25_16-38-33.npz  IMU_2018-12-06_15-30-11.npz\n",
            "commands_2019-02-25_16-38-38.npz  IMU_2018-12-06_15-30-16.npz\n",
            "commands_2019-02-25_16-38-43.npz  IMU_2018-12-06_15-30-20.npz\n",
            "imgs_2018-12-06_12-54-17.npz\t  IMU_2018-12-06_15-36-11.npz\n",
            "imgs_2018-12-06_12-59-38.npz\t  IMU_2018-12-06_15-36-16.npz\n",
            "imgs_2018-12-06_12-59-43.npz\t  IMU_2018-12-06_15-36-21.npz\n",
            "imgs_2018-12-06_12-59-48.npz\t  IMU_2018-12-06_15-36-26.npz\n",
            "imgs_2018-12-06_12-59-53.npz\t  IMU_2018-12-06_15-36-28.npz\n",
            "imgs_2018-12-06_12-59-58.npz\t  IMU_2018-12-06_15-36-46.npz\n",
            "imgs_2018-12-06_13-00-03.npz\t  IMU_2018-12-06_15-36-51.npz\n",
            "imgs_2018-12-06_13-00-08.npz\t  IMU_2018-12-06_15-36-56.npz\n",
            "imgs_2018-12-06_13-00-13.npz\t  IMU_2018-12-06_15-37-01.npz\n",
            "imgs_2018-12-06_13-00-18.npz\t  IMU_2018-12-06_15-37-06.npz\n",
            "imgs_2018-12-06_13-00-23.npz\t  IMU_2018-12-06_15-37-11.npz\n",
            "imgs_2018-12-06_13-00-28.npz\t  IMU_2018-12-06_15-37-16.npz\n",
            "imgs_2018-12-06_13-00-33.npz\t  IMU_2018-12-06_15-37-21.npz\n",
            "imgs_2018-12-06_13-00-38.npz\t  IMU_2018-12-06_15-37-26.npz\n",
            "imgs_2018-12-06_13-00-43.npz\t  IMU_2018-12-06_15-37-31.npz\n",
            "imgs_2018-12-06_13-00-48.npz\t  IMU_2018-12-06_15-37-36.npz\n",
            "imgs_2018-12-06_13-00-53.npz\t  IMU_2018-12-06_15-37-41.npz\n",
            "imgs_2018-12-06_13-00-58.npz\t  IMU_2018-12-06_15-37-46.npz\n",
            "imgs_2018-12-06_13-01-03.npz\t  IMU_2018-12-06_15-37-51.npz\n",
            "imgs_2018-12-06_13-01-08.npz\t  IMU_2018-12-06_15-37-56.npz\n",
            "imgs_2018-12-06_13-01-13.npz\t  IMU_2018-12-06_15-38-01.npz\n",
            "imgs_2018-12-06_13-01-18.npz\t  IMU_2018-12-06_15-38-06.npz\n",
            "imgs_2018-12-06_13-01-23.npz\t  IMU_2018-12-06_15-38-11.npz\n",
            "imgs_2018-12-06_13-01-28.npz\t  IMU_2018-12-06_15-38-16.npz\n",
            "imgs_2018-12-06_13-01-33.npz\t  IMU_2018-12-06_15-38-21.npz\n",
            "imgs_2018-12-06_13-01-38.npz\t  IMU_2018-12-06_15-38-26.npz\n",
            "imgs_2018-12-06_13-01-43.npz\t  IMU_2018-12-06_15-38-31.npz\n",
            "imgs_2018-12-06_13-01-48.npz\t  IMU_2018-12-06_15-38-36.npz\n",
            "imgs_2018-12-06_13-01-53.npz\t  IMU_2018-12-06_15-38-41.npz\n",
            "imgs_2018-12-06_13-01-58.npz\t  IMU_2018-12-06_15-38-46.npz\n",
            "imgs_2018-12-06_13-02-03.npz\t  IMU_2018-12-06_15-38-51.npz\n",
            "imgs_2018-12-06_13-02-08.npz\t  IMU_2018-12-06_15-38-56.npz\n",
            "imgs_2018-12-06_13-02-13.npz\t  IMU_2018-12-06_15-39-01.npz\n",
            "imgs_2018-12-06_13-02-18.npz\t  IMU_2018-12-06_15-39-06.npz\n",
            "imgs_2018-12-06_13-02-21.npz\t  IMU_2018-12-06_15-39-11.npz\n",
            "imgs_2018-12-06_13-30-23.npz\t  IMU_2018-12-06_15-39-16.npz\n",
            "imgs_2018-12-06_13-30-28.npz\t  IMU_2018-12-06_15-39-21.npz\n",
            "imgs_2018-12-06_13-30-33.npz\t  IMU_2018-12-06_15-39-26.npz\n",
            "imgs_2018-12-06_13-30-38.npz\t  IMU_2018-12-06_15-39-31.npz\n",
            "imgs_2018-12-06_13-30-43.npz\t  IMU_2018-12-06_15-39-36.npz\n",
            "imgs_2018-12-06_13-30-48.npz\t  IMU_2018-12-06_15-39-41.npz\n",
            "imgs_2018-12-06_13-30-53.npz\t  IMU_2018-12-06_15-39-46.npz\n",
            "imgs_2018-12-06_13-30-58.npz\t  IMU_2018-12-06_15-39-51.npz\n",
            "imgs_2018-12-06_13-31-03.npz\t  IMU_2018-12-06_15-39-56.npz\n",
            "imgs_2018-12-06_13-31-08.npz\t  IMU_2018-12-06_15-40-01.npz\n",
            "imgs_2018-12-06_13-31-13.npz\t  IMU_2018-12-06_15-40-05.npz\n",
            "imgs_2018-12-06_13-31-18.npz\t  IMU_2018-12-06_15-40-27.npz\n",
            "imgs_2018-12-06_13-31-23.npz\t  IMU_2018-12-06_15-40-32.npz\n",
            "imgs_2018-12-06_13-31-28.npz\t  IMU_2018-12-06_15-40-37.npz\n",
            "imgs_2018-12-06_13-31-33.npz\t  IMU_2018-12-06_15-40-42.npz\n",
            "imgs_2018-12-06_13-31-38.npz\t  IMU_2018-12-06_15-40-47.npz\n",
            "imgs_2018-12-06_13-31-43.npz\t  IMU_2018-12-06_15-40-52.npz\n",
            "imgs_2018-12-06_13-31-48.npz\t  IMU_2018-12-06_15-40-57.npz\n",
            "imgs_2018-12-06_13-31-53.npz\t  IMU_2018-12-06_15-41-02.npz\n",
            "imgs_2018-12-06_13-31-58.npz\t  IMU_2018-12-06_15-41-07.npz\n",
            "imgs_2018-12-06_13-32-03.npz\t  IMU_2018-12-06_15-41-12.npz\n",
            "imgs_2018-12-06_13-32-08.npz\t  IMU_2018-12-06_15-41-17.npz\n",
            "imgs_2018-12-06_13-32-13.npz\t  IMU_2018-12-06_15-41-22.npz\n",
            "imgs_2018-12-06_13-32-18.npz\t  IMU_2018-12-06_15-41-27.npz\n",
            "imgs_2018-12-06_13-32-23.npz\t  IMU_2018-12-06_15-41-32.npz\n",
            "imgs_2018-12-06_13-32-28.npz\t  IMU_2018-12-06_15-41-37.npz\n",
            "imgs_2018-12-06_13-32-33.npz\t  IMU_2018-12-06_15-41-42.npz\n",
            "imgs_2018-12-06_13-32-38.npz\t  IMU_2018-12-06_15-41-47.npz\n",
            "imgs_2018-12-06_13-32-43.npz\t  IMU_2018-12-06_15-41-52.npz\n",
            "imgs_2018-12-06_13-32-48.npz\t  IMU_2018-12-06_15-41-57.npz\n",
            "imgs_2018-12-06_13-32-53.npz\t  IMU_2018-12-06_15-42-02.npz\n",
            "imgs_2018-12-06_13-32-58.npz\t  IMU_2018-12-06_15-42-07.npz\n",
            "imgs_2018-12-06_13-33-03.npz\t  IMU_2018-12-06_15-42-12.npz\n",
            "imgs_2018-12-06_13-33-08.npz\t  IMU_2018-12-06_15-42-17.npz\n",
            "imgs_2018-12-06_13-33-13.npz\t  IMU_2018-12-06_15-42-22.npz\n",
            "imgs_2018-12-06_13-33-18.npz\t  IMU_2018-12-06_15-42-27.npz\n",
            "imgs_2018-12-06_13-33-23.npz\t  IMU_2018-12-06_15-42-32.npz\n",
            "imgs_2018-12-06_13-33-28.npz\t  IMU_2018-12-06_15-42-37.npz\n",
            "imgs_2018-12-06_13-33-33.npz\t  IMU_2018-12-06_15-42-42.npz\n",
            "imgs_2018-12-06_13-33-38.npz\t  IMU_2018-12-06_15-42-46.npz\n",
            "imgs_2018-12-06_13-33-43.npz\t  IMU_2018-12-06_15-43-05.npz\n",
            "imgs_2018-12-06_13-33-48.npz\t  IMU_2018-12-06_15-43-10.npz\n",
            "imgs_2018-12-06_13-33-53.npz\t  IMU_2018-12-06_15-43-15.npz\n",
            "imgs_2018-12-06_13-33-58.npz\t  IMU_2018-12-06_15-43-18.npz\n",
            "imgs_2018-12-06_13-34-03.npz\t  IMU_2018-12-06_15-49-54.npz\n",
            "imgs_2018-12-06_13-34-08.npz\t  IMU_2018-12-06_15-49-59.npz\n",
            "imgs_2018-12-06_13-34-13.npz\t  IMU_2018-12-06_15-50-04.npz\n",
            "imgs_2018-12-06_13-34-18.npz\t  IMU_2018-12-06_15-50-09.npz\n",
            "imgs_2018-12-06_13-34-23.npz\t  IMU_2018-12-06_15-50-14.npz\n",
            "imgs_2018-12-06_13-34-28.npz\t  IMU_2018-12-06_15-50-19.npz\n",
            "imgs_2018-12-06_13-34-33.npz\t  IMU_2018-12-06_15-50-24.npz\n",
            "imgs_2018-12-06_13-34-38.npz\t  IMU_2018-12-06_15-50-29.npz\n",
            "imgs_2018-12-06_13-34-43.npz\t  IMU_2018-12-06_15-50-34.npz\n",
            "imgs_2018-12-06_13-34-48.npz\t  IMU_2018-12-06_15-50-39.npz\n",
            "imgs_2018-12-06_13-34-53.npz\t  IMU_2018-12-06_15-50-44.npz\n",
            "imgs_2018-12-06_13-34-58.npz\t  IMU_2018-12-06_15-50-49.npz\n",
            "imgs_2018-12-06_13-35-03.npz\t  IMU_2018-12-06_15-50-54.npz\n",
            "imgs_2018-12-06_13-35-08.npz\t  IMU_2018-12-06_15-50-59.npz\n",
            "imgs_2018-12-06_14-58-51.npz\t  IMU_2018-12-15_11-26-03.npz\n",
            "imgs_2018-12-06_15-20-53.npz\t  IMU_2018-12-15_11-28-05.npz\n",
            "imgs_2018-12-06_15-20-58.npz\t  IMU_2018-12-15_11-28-10.npz\n",
            "imgs_2018-12-06_15-21-03.npz\t  IMU_2018-12-15_11-28-15.npz\n",
            "imgs_2018-12-06_15-21-08.npz\t  IMU_2018-12-15_11-28-20.npz\n",
            "imgs_2018-12-06_15-21-13.npz\t  IMU_2018-12-15_11-37-39.npz\n",
            "imgs_2018-12-06_15-21-18.npz\t  IMU_2018-12-15_11-51-21.npz\n",
            "imgs_2018-12-06_15-21-23.npz\t  IMU_2018-12-15_11-51-26.npz\n",
            "imgs_2018-12-06_15-21-28.npz\t  IMU_2018-12-15_11-51-28.npz\n",
            "imgs_2018-12-06_15-21-33.npz\t  IMU_2018-12-15_12-34-06.npz\n",
            "imgs_2018-12-06_15-21-38.npz\t  IMU_2018-12-15_12-50-30.npz\n",
            "imgs_2018-12-06_15-21-43.npz\t  IMU_2018-12-15_12-57-21.npz\n",
            "imgs_2018-12-06_15-21-48.npz\t  IMU_2018-12-15_12-57-26.npz\n",
            "imgs_2018-12-06_15-21-53.npz\t  IMU_2018-12-15_12-57-31.npz\n",
            "imgs_2018-12-06_15-22-00.npz\t  IMU_2018-12-15_12-57-36.npz\n",
            "imgs_2018-12-06_15-22-05.npz\t  IMU_2018-12-15_12-57-41.npz\n",
            "imgs_2018-12-06_15-22-10.npz\t  IMU_2018-12-15_12-57-46.npz\n",
            "imgs_2018-12-06_15-22-15.npz\t  IMU_2018-12-15_12-57-51.npz\n",
            "imgs_2018-12-06_15-22-20.npz\t  IMU_2018-12-15_12-57-56.npz\n",
            "imgs_2018-12-06_15-22-25.npz\t  IMU_2018-12-15_12-58-01.npz\n",
            "imgs_2018-12-06_15-22-30.npz\t  IMU_2018-12-15_12-58-06.npz\n",
            "imgs_2018-12-06_15-22-35.npz\t  IMU_2018-12-15_12-58-11.npz\n",
            "imgs_2018-12-06_15-22-40.npz\t  IMU_2018-12-15_12-58-16.npz\n",
            "imgs_2018-12-06_15-22-45.npz\t  IMU_2018-12-15_12-58-21.npz\n",
            "imgs_2018-12-06_15-22-50.npz\t  IMU_2018-12-15_12-58-26.npz\n",
            "imgs_2018-12-06_15-22-55.npz\t  IMU_2018-12-15_12-58-31.npz\n",
            "imgs_2018-12-06_15-23-00.npz\t  IMU_2018-12-15_12-58-36.npz\n",
            "imgs_2018-12-06_15-23-05.npz\t  IMU_2018-12-15_12-58-41.npz\n",
            "imgs_2018-12-06_15-23-10.npz\t  IMU_2018-12-15_12-58-46.npz\n",
            "imgs_2018-12-06_15-23-15.npz\t  IMU_2018-12-15_12-58-51.npz\n",
            "imgs_2018-12-06_15-23-20.npz\t  IMU_2018-12-15_12-58-56.npz\n",
            "imgs_2018-12-06_15-23-25.npz\t  IMU_2018-12-15_12-59-01.npz\n",
            "imgs_2018-12-06_15-23-30.npz\t  IMU_2018-12-15_12-59-06.npz\n",
            "imgs_2018-12-06_15-23-35.npz\t  IMU_2018-12-15_13-52-21.npz\n",
            "imgs_2018-12-06_15-27-31.npz\t  IMU_2019-02-25_16-17-31.npz\n",
            "imgs_2018-12-06_15-27-36.npz\t  IMU_2019-02-25_16-24-59.npz\n",
            "imgs_2018-12-06_15-27-41.npz\t  IMU_2019-02-25_16-36-09.npz\n",
            "imgs_2018-12-06_15-27-46.npz\t  IMU_2019-02-25_16-36-14.npz\n",
            "imgs_2018-12-06_15-27-51.npz\t  IMU_2019-02-25_16-36-19.npz\n",
            "imgs_2018-12-06_15-27-56.npz\t  IMU_2019-02-25_16-36-24.npz\n",
            "imgs_2018-12-06_15-28-01.npz\t  IMU_2019-02-25_16-36-29.npz\n",
            "imgs_2018-12-06_15-28-06.npz\t  IMU_2019-02-25_16-36-34.npz\n",
            "imgs_2018-12-06_15-28-11.npz\t  IMU_2019-02-25_16-36-39.npz\n",
            "imgs_2018-12-06_15-28-16.npz\t  IMU_2019-02-25_16-36-44.npz\n",
            "imgs_2018-12-06_15-28-21.npz\t  IMU_2019-02-25_16-36-49.npz\n",
            "imgs_2018-12-06_15-28-26.npz\t  IMU_2019-02-25_16-36-54.npz\n",
            "imgs_2018-12-06_15-28-31.npz\t  IMU_2019-02-25_16-36-59.npz\n",
            "imgs_2018-12-06_15-28-36.npz\t  IMU_2019-02-25_16-37-04.npz\n",
            "imgs_2018-12-06_15-28-41.npz\t  IMU_2019-02-25_16-37-09.npz\n",
            "imgs_2018-12-06_15-28-46.npz\t  IMU_2019-02-25_16-37-14.npz\n",
            "imgs_2018-12-06_15-28-51.npz\t  IMU_2019-02-25_16-37-19.npz\n",
            "imgs_2018-12-06_15-28-56.npz\t  IMU_2019-02-25_16-37-23.npz\n",
            "imgs_2018-12-06_15-29-01.npz\t  IMU_2019-02-25_16-37-29.npz\n",
            "imgs_2018-12-06_15-29-06.npz\t  IMU_2019-02-25_16-37-33.npz\n",
            "imgs_2018-12-06_15-29-11.npz\t  IMU_2019-02-25_16-37-38.npz\n",
            "imgs_2018-12-06_15-29-16.npz\t  IMU_2019-02-25_16-37-43.npz\n",
            "imgs_2018-12-06_15-29-21.npz\t  IMU_2019-02-25_16-37-48.npz\n",
            "imgs_2018-12-06_15-29-26.npz\t  IMU_2019-02-25_16-37-53.npz\n",
            "imgs_2018-12-06_15-29-31.npz\t  IMU_2019-02-25_16-37-58.npz\n",
            "imgs_2018-12-06_15-29-36.npz\t  IMU_2019-02-25_16-38-03.npz\n",
            "imgs_2018-12-06_15-29-41.npz\t  IMU_2019-02-25_16-38-08.npz\n",
            "imgs_2018-12-06_15-29-46.npz\t  IMU_2019-02-25_16-38-13.npz\n",
            "imgs_2018-12-06_15-29-51.npz\t  IMU_2019-02-25_16-38-18.npz\n",
            "imgs_2018-12-06_15-29-56.npz\t  IMU_2019-02-25_16-38-23.npz\n",
            "imgs_2018-12-06_15-30-01.npz\t  IMU_2019-02-25_16-38-28.npz\n",
            "imgs_2018-12-06_15-30-06.npz\t  IMU_2019-02-25_16-38-33.npz\n",
            "imgs_2018-12-06_15-30-11.npz\t  IMU_2019-02-25_16-38-38.npz\n",
            "imgs_2018-12-06_15-30-16.npz\t  IMU_2019-02-25_16-38-43.npz\n",
            "imgs_2018-12-06_15-30-20.npz\n"
          ],
          "name": "stdout"
        }
      ]
    },
    {
      "cell_type": "code",
      "metadata": {
        "id": "tCwZVZW4M3lh",
        "colab_type": "code",
        "outputId": "a01a6884-b36b-42dd-9776-f204cad5d174",
        "colab": {
          "base_uri": "https://localhost:8080/",
          "height": 35
        }
      },
      "source": [
        "images = np.load('imgs_2018-12-06_12-54-17.npz')\n",
        "print(type(images))"
      ],
      "execution_count": 0,
      "outputs": [
        {
          "output_type": "stream",
          "text": [
            "<class 'numpy.lib.npyio.NpzFile'>\n"
          ],
          "name": "stdout"
        }
      ]
    },
    {
      "cell_type": "code",
      "metadata": {
        "id": "Jr2DAqncFEHt",
        "colab_type": "code",
        "colab": {}
      },
      "source": [
        "#NOT NEEDED - Use this if you've mounted Google drive to your Notebook\n",
        "images = np.load('/content/data/cars/steelroses/collected/imgs_2018-12-06_12-54-17.npz')\n",
        "print(type(images))\n",
        "\n"
      ],
      "execution_count": 0,
      "outputs": []
    },
    {
      "cell_type": "code",
      "metadata": {
        "id": "U8po9IlzFmtr",
        "colab_type": "code",
        "outputId": "52ae0542-a028-4f8e-8732-a1e1287f7886",
        "colab": {
          "base_uri": "https://localhost:8080/",
          "height": 884
        }
      },
      "source": [
        "#Explore data\n",
        "print(images.keys())\n",
        "images['arr_0'][0]"
      ],
      "execution_count": 0,
      "outputs": [
        {
          "output_type": "stream",
          "text": [
            "KeysView(<numpy.lib.npyio.NpzFile object at 0x7fa37b883048>)\n"
          ],
          "name": "stdout"
        },
        {
          "output_type": "execute_result",
          "data": {
            "text/plain": [
              "array([[[ 32,  50,  78],\n",
              "        [113, 130, 159],\n",
              "        [170, 198, 223],\n",
              "        ...,\n",
              "        [ 12,   0,   0],\n",
              "        [ 11,   0,   0],\n",
              "        [ 32,  15,   5]],\n",
              "\n",
              "       [[ 46,  64,  92],\n",
              "        [137, 155, 183],\n",
              "        [158, 185, 210],\n",
              "        ...,\n",
              "        [ 13,   0,   0],\n",
              "        [ 11,   0,   0],\n",
              "        [ 32,  15,   5]],\n",
              "\n",
              "       [[100, 124, 153],\n",
              "        [170, 194, 223],\n",
              "        [151, 170, 191],\n",
              "        ...,\n",
              "        [ 15,   0,   0],\n",
              "        [ 12,   0,   0],\n",
              "        [ 33,  16,   6]],\n",
              "\n",
              "       ...,\n",
              "\n",
              "       [[115, 118,  94],\n",
              "        [114, 117,  93],\n",
              "        [107, 110,  86],\n",
              "        ...,\n",
              "        [249, 228, 186],\n",
              "        [255, 235, 192],\n",
              "        [247, 226, 183]],\n",
              "\n",
              "       [[116, 120,  94],\n",
              "        [108, 112,  85],\n",
              "        [104, 108,  82],\n",
              "        ...,\n",
              "        [255, 235, 192],\n",
              "        [254, 233, 192],\n",
              "        [244, 223, 183]],\n",
              "\n",
              "       [[105, 109,  83],\n",
              "        [107, 110,  84],\n",
              "        [108, 112,  85],\n",
              "        ...,\n",
              "        [255, 234, 191],\n",
              "        [249, 228, 188],\n",
              "        [232, 210, 170]]], dtype=uint8)"
            ]
          },
          "metadata": {
            "tags": []
          },
          "execution_count": 13
        }
      ]
    },
    {
      "cell_type": "code",
      "metadata": {
        "id": "ZNZ6svG_Fr71",
        "colab_type": "code",
        "colab": {}
      },
      "source": [
        "## Make a video clip\n",
        "# Tutorial: https://www.apriorit.com/dev-blog/600-colab-for-video-processing\n",
        "\n",
        "import cv2\n",
        "#import skimage.io\n",
        "#from matplotlib.patches import Polygon\n",
        "# VIDEO_FORMAT = \"MP4V\"\n",
        "# VIDEO_EXT = 'mp4'\n",
        "\n",
        "VIDEO_FORMAT = 'VP90'\n",
        "VIDEO_EXT = 'webm'\n",
        "\n",
        "!mkdir -p /content/data/output\n",
        "\n",
        "VIDEO_OUT = '/content/data/output.' + VIDEO_EXT\n",
        "IMG_IN    = '/content/collected/imgs_2018-12-06_12-54-17.npz' #CHANGE THIS ACCORDINGLY\n",
        "#IMG_IN   = '/content/data/cars/steelroses/collected/imgs_2018-12-06_12-54-17.npz'"
      ],
      "execution_count": 0,
      "outputs": []
    },
    {
      "cell_type": "code",
      "metadata": {
        "id": "CVUSA6dkFsBD",
        "colab_type": "code",
        "outputId": "6da5f1ac-0a08-41de-de62-67589964d4d7",
        "colab": {
          "base_uri": "https://localhost:8080/",
          "height": 35
        }
      },
      "source": [
        "#THIS IS A TEST\n",
        "image = images['arr_0'][0]\n",
        "print(image.shape)\n",
        "\n",
        "fourcc = cv2.VideoWriter_fourcc(*VIDEO_FORMAT)\n",
        "writer = cv2.VideoWriter(VIDEO_OUT, fourcc, 30, (image.shape[1], image.shape[0]), True)\n"
      ],
      "execution_count": 0,
      "outputs": [
        {
          "output_type": "stream",
          "text": [
            "(96, 128, 3)\n"
          ],
          "name": "stdout"
        }
      ]
    },
    {
      "cell_type": "code",
      "metadata": {
        "id": "XGQnuLjNFsFU",
        "colab_type": "code",
        "outputId": "d2383678-3fd9-4bf3-eb98-26d5c0db77d3",
        "colab": {
          "base_uri": "https://localhost:8080/",
          "height": 121
        }
      },
      "source": [
        "#Gadget to show progress bar\n",
        "!pip install tqdm\n",
        "from tqdm import tqdm\n",
        "\n",
        "#imgdata = np.load(IMG_IN)['arr_0'].astype('float32')\n",
        "imgdata = np.load(IMG_IN)['arr_0']\n",
        "print(f'\\nShape: {imgdata.shape}\\n')\n",
        "\n",
        "\n",
        "#ITERATE  the first dimension and get the image from the rest\n",
        "for index in tqdm(range(0,len(imgdata))):\n",
        "  img = imgdata[index]\n",
        "  writer.write(img)\n",
        "\n",
        "writer.release()\n",
        "print(f'Done: {VIDEO_OUT}')\n"
      ],
      "execution_count": 0,
      "outputs": [
        {
          "output_type": "stream",
          "text": [
            "Requirement already satisfied: tqdm in /usr/local/lib/python3.6/dist-packages (4.28.1)\n"
          ],
          "name": "stdout"
        },
        {
          "output_type": "stream",
          "text": [
            " 16%|█▋        | 33/200 [00:00<00:00, 311.12it/s]"
          ],
          "name": "stderr"
        },
        {
          "output_type": "stream",
          "text": [
            "\n",
            "Shape: (200, 96, 128, 3)\n",
            "\n"
          ],
          "name": "stdout"
        },
        {
          "output_type": "stream",
          "text": [
            "100%|██████████| 200/200 [00:02<00:00, 82.24it/s]\n"
          ],
          "name": "stderr"
        },
        {
          "output_type": "stream",
          "text": [
            "Done: /content/data/output.webm\n"
          ],
          "name": "stdout"
        }
      ]
    },
    {
      "cell_type": "code",
      "metadata": {
        "id": "dL-P3nZ9FsOX",
        "colab_type": "code",
        "outputId": "88c43ca3-2217-4e5b-ec8e-deb5d20c86bb",
        "colab": {
          "base_uri": "https://localhost:8080/",
          "height": 35
        }
      },
      "source": [
        "!ls /content/data"
      ],
      "execution_count": 0,
      "outputs": [
        {
          "output_type": "stream",
          "text": [
            "output\toutput.webm\n"
          ],
          "name": "stdout"
        }
      ]
    },
    {
      "cell_type": "code",
      "metadata": {
        "id": "aPSy8j5HF1LL",
        "colab_type": "code",
        "colab": {}
      },
      "source": [
        "#Save video locally\n",
        "#will save to: C:\\Users\\<username>\\Downloads\n",
        "from google.colab import files\n",
        "files.download(VIDEO_OUT)"
      ],
      "execution_count": 0,
      "outputs": []
    },
    {
      "cell_type": "code",
      "metadata": {
        "id": "z8QoRsZIF1TP",
        "colab_type": "code",
        "outputId": "953af973-b438-4bba-c8b5-579de5ee93b5",
        "colab": {
          "resources": {
            "http://localhost:8080/content/data/output.webm": {
              "data": "CjwhRE9DVFlQRSBodG1sPgo8aHRtbCBsYW5nPWVuPgogIDxtZXRhIGNoYXJzZXQ9dXRmLTg+CiAgPG1ldGEgbmFtZT12aWV3cG9ydCBjb250ZW50PSJpbml0aWFsLXNjYWxlPTEsIG1pbmltdW0tc2NhbGU9MSwgd2lkdGg9ZGV2aWNlLXdpZHRoIj4KICA8dGl0bGU+RXJyb3IgNDA0IChOb3QgRm91bmQpISExPC90aXRsZT4KICA8c3R5bGU+CiAgICAqe21hcmdpbjowO3BhZGRpbmc6MH1odG1sLGNvZGV7Zm9udDoxNXB4LzIycHggYXJpYWwsc2Fucy1zZXJpZn1odG1se2JhY2tncm91bmQ6I2ZmZjtjb2xvcjojMjIyO3BhZGRpbmc6MTVweH1ib2R5e21hcmdpbjo3JSBhdXRvIDA7bWF4LXdpZHRoOjM5MHB4O21pbi1oZWlnaHQ6MTgwcHg7cGFkZGluZzozMHB4IDAgMTVweH0qID4gYm9keXtiYWNrZ3JvdW5kOnVybCgvL3d3dy5nb29nbGUuY29tL2ltYWdlcy9lcnJvcnMvcm9ib3QucG5nKSAxMDAlIDVweCBuby1yZXBlYXQ7cGFkZGluZy1yaWdodDoyMDVweH1we21hcmdpbjoxMXB4IDAgMjJweDtvdmVyZmxvdzpoaWRkZW59aW5ze2NvbG9yOiM3Nzc7dGV4dC1kZWNvcmF0aW9uOm5vbmV9YSBpbWd7Ym9yZGVyOjB9QG1lZGlhIHNjcmVlbiBhbmQgKG1heC13aWR0aDo3NzJweCl7Ym9keXtiYWNrZ3JvdW5kOm5vbmU7bWFyZ2luLXRvcDowO21heC13aWR0aDpub25lO3BhZGRpbmctcmlnaHQ6MH19I2xvZ297YmFja2dyb3VuZDp1cmwoLy93d3cuZ29vZ2xlLmNvbS9pbWFnZXMvbG9nb3MvZXJyb3JwYWdlL2Vycm9yX2xvZ28tMTUweDU0LnBuZykgbm8tcmVwZWF0O21hcmdpbi1sZWZ0Oi01cHh9QG1lZGlhIG9ubHkgc2NyZWVuIGFuZCAobWluLXJlc29sdXRpb246MTkyZHBpKXsjbG9nb3tiYWNrZ3JvdW5kOnVybCgvL3d3dy5nb29nbGUuY29tL2ltYWdlcy9sb2dvcy9lcnJvcnBhZ2UvZXJyb3JfbG9nby0xNTB4NTQtMngucG5nKSBuby1yZXBlYXQgMCUgMCUvMTAwJSAxMDAlOy1tb3otYm9yZGVyLWltYWdlOnVybCgvL3d3dy5nb29nbGUuY29tL2ltYWdlcy9sb2dvcy9lcnJvcnBhZ2UvZXJyb3JfbG9nby0xNTB4NTQtMngucG5nKSAwfX1AbWVkaWEgb25seSBzY3JlZW4gYW5kICgtd2Via2l0LW1pbi1kZXZpY2UtcGl4ZWwtcmF0aW86Mil7I2xvZ297YmFja2dyb3VuZDp1cmwoLy93d3cuZ29vZ2xlLmNvbS9pbWFnZXMvbG9nb3MvZXJyb3JwYWdlL2Vycm9yX2xvZ28tMTUweDU0LTJ4LnBuZykgbm8tcmVwZWF0Oy13ZWJraXQtYmFja2dyb3VuZC1zaXplOjEwMCUgMTAwJX19I2xvZ297ZGlzcGxheTppbmxpbmUtYmxvY2s7aGVpZ2h0OjU0cHg7d2lkdGg6MTUwcHh9CiAgPC9zdHlsZT4KICA8YSBocmVmPS8vd3d3Lmdvb2dsZS5jb20vPjxzcGFuIGlkPWxvZ28gYXJpYS1sYWJlbD1Hb29nbGU+PC9zcGFuPjwvYT4KICA8cD48Yj40MDQuPC9iPiA8aW5zPlRoYXTigJlzIGFuIGVycm9yLjwvaW5zPgogIDxwPiAgPGlucz5UaGF04oCZcyBhbGwgd2Uga25vdy48L2lucz4K",
              "ok": false,
              "headers": [
                [
                  "content-length",
                  "1449"
                ],
                [
                  "content-type",
                  "text/html; charset=utf-8"
                ]
              ],
              "status": 404,
              "status_text": ""
            }
          },
          "base_uri": "https://localhost:8080/",
          "height": 171
        }
      },
      "source": [
        "from IPython.core.display import Video\n",
        "\n",
        "Video(VIDEO_OUT)\n"
      ],
      "execution_count": 0,
      "outputs": [
        {
          "output_type": "execute_result",
          "data": {
            "text/html": [
              "<video src=\"/content/data/output.webm\" controls>\n",
              "      Your browser does not support the <code>video</code> element.\n",
              "    </video>"
            ],
            "text/plain": [
              "<IPython.core.display.Video object>"
            ]
          },
          "metadata": {
            "tags": []
          },
          "execution_count": 50
        }
      ]
    },
    {
      "cell_type": "code",
      "metadata": {
        "id": "0CJAgMgpF1aS",
        "colab_type": "code",
        "outputId": "2579e781-698a-476d-ed1b-5134a35d251f",
        "colab": {
          "base_uri": "https://localhost:8080/",
          "height": 273
        }
      },
      "source": [
        "#THIS IS A TEST\n",
        "# The dynamic video tag is not showing. Maybe, do this in javacsript\n",
        "from IPython.core.display import display, HTML\n",
        "\n",
        "\n",
        "HTML_SRC = \"\"\"<video width=\"400\" height=\"200\">\n",
        "<source src=\"/content/data/output.webm\" type=\"video/x-webm\"></source>\n",
        "</video>\"\"\"\n",
        "print(HTML_SRC)\n",
        "\n",
        "\n",
        "\n",
        "             \n",
        "display(HTML(HTML_SRC))             "
      ],
      "execution_count": 0,
      "outputs": [
        {
          "output_type": "stream",
          "text": [
            "<video width=\"400\" height=\"200\">\n",
            "<source src=\"/content/data/output.webm\" type=\"video/x-webm\"></source>\n",
            "</video>\n"
          ],
          "name": "stdout"
        },
        {
          "output_type": "display_data",
          "data": {
            "text/html": [
              "<video width=\"400\" height=\"200\">\n",
              "<source src=\"/content/data/output.webm\" type=\"video/x-webm\"></source>\n",
              "</video>"
            ],
            "text/plain": [
              "<IPython.core.display.HTML object>"
            ]
          },
          "metadata": {
            "tags": []
          }
        }
      ]
    }
  ]
}
