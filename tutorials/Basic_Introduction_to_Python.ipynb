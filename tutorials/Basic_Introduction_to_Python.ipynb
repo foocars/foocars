{
  "nbformat": 4,
  "nbformat_minor": 0,
  "metadata": {
    "colab": {
      "name": "Basic Introduction to Python",
      "version": "0.3.2",
      "provenance": [],
      "collapsed_sections": []
    },
    "kernelspec": {
      "name": "python3",
      "display_name": "Python 3"
    }
  },
  "cells": [
    {
      "cell_type": "markdown",
      "metadata": {
        "id": "EJeVpfhLhc82",
        "colab_type": "text"
      },
      "source": [
        "# Basic Introduction to Python\n",
        "\n",
        "Welcome to my Basic Introduction to Python class! I am happy to have you here to teach you about Python.\n",
        "\n",
        "Feel free to ask questions. I can improvise as need-be to explain any concepts that give you difficulty."
      ]
    },
    {
      "cell_type": "markdown",
      "metadata": {
        "id": "orJ0tmYhpT_6",
        "colab_type": "text"
      },
      "source": [
        "# What is Python?\n",
        "\n",
        "Python is a programming language, much like JavaScript or C++. Python is a versatile language that can be used for a variety of tasks ranging from simple utilities to advanced machine learning. There is a large ecosystem of Python libraries that can be leveraged to accomplish your goals. \"Knowing Python\" is as much about knowing which library to use as it is about knowing the language syntax. Libraries can and will save you a lot of time."
      ]
    },
    {
      "cell_type": "markdown",
      "metadata": {
        "id": "pH8fU0JAh_NO",
        "colab_type": "text"
      },
      "source": [
        "# Google Colab? What's that?\n",
        "\n",
        "Google built infrastructure for running Python code on servers in the cloud. This was an internal tool the used for a long time before sharing it with the public. It is a tool that integrates well with Google Drive and other Google Office-like tools like Docs or Sheets. You can share these Colab Notebooks with other people just like you could do with any other Google Drive file.\n",
        "\n",
        "This tool allows you to run Python on a server through your browser. Instead of everything happening locally on the computer in front of you, you will send Python code across the internet to one of Google's servers where they will execute it for you and send the result back to you. Conveniently, that makes Python setup issues a non-issue. It makes it very easy to share code and research with other people.\n",
        "\n",
        "Google Colab also provides GPUs for people who need that sort of thing. We won't use that today but know that it is available when you need it.\n",
        "\n",
        "Have a look at \"Tools => Preferences...\" and \"Runtime => Change runtime type\" in the menu to see the different options available to you."
      ]
    },
    {
      "cell_type": "markdown",
      "metadata": {
        "id": "36VH8-YFa9RG",
        "colab_type": "text"
      },
      "source": [
        "# A Quick Note on Python Versions...\n",
        "\n",
        "This Colab notebook uses Python 3.6. I picked this version to be consistent with how Allison Parrish teaches. If you are learning Python it is the version you should be learning.\n",
        "\n",
        "On the web or elsewhere ([stackoverflow](https://stackoverflow.com)) you will frequently see references to Python 2.7. Python 2.7 is widely used globally even though support for this will be dropped in [2020](https://pythonclock.org/). You will occasionally meet grumpy people who cling to Python 2.7 and lecture you about how \"newer isn't always better.\" My advice: don't argue with them. Just back away slowly. \n",
        "\n",
        "If you continue on your Python journey most likely you will be at least exposed to Python 2.7 at some point. Be aware that although the Python 2.7 and Python 3.6 languages are very similar, the new version isn't completely backwards compatible.\n",
        "\n",
        "## These two versions of Python are scary!\n",
        "\n",
        "I like to make an analogy to British English and American English. British and American English speakers have unique expressions and word usages but everybody can still understand each other. It isn't a real language barrier. If you moved from one country to another you'd be able to adapt quickly.\n",
        "\n",
        "Python 2.7 and 3.6 is kind of like British English and American English. Almost all of it is the same. If you aspire to master Python you will end up being proficient in all versions of Python."
      ]
    },
    {
      "cell_type": "markdown",
      "metadata": {
        "id": "6UFh7lhWeV-c",
        "colab_type": "text"
      },
      "source": [
        "# Basic Python Syntax\n",
        "\n",
        "Below is the most important Python syntax you will need to know."
      ]
    },
    {
      "cell_type": "markdown",
      "metadata": {
        "id": "_m6cbajOd37F",
        "colab_type": "text"
      },
      "source": [
        "First, the obligatory \"Hello World!\" code:"
      ]
    },
    {
      "cell_type": "code",
      "metadata": {
        "id": "IDFMfBLoyvX_",
        "colab_type": "code",
        "colab": {}
      },
      "source": [
        "print('Hello World!')"
      ],
      "execution_count": 0,
      "outputs": []
    },
    {
      "cell_type": "markdown",
      "metadata": {
        "id": "zpejmvzUeCXw",
        "colab_type": "text"
      },
      "source": [
        "Notice the string is using single quotes. I could have just as easily used double quotes:"
      ]
    },
    {
      "cell_type": "code",
      "metadata": {
        "id": "Ll9XusKZeODZ",
        "colab_type": "code",
        "colab": {}
      },
      "source": [
        "print(\"Hello World!\")"
      ],
      "execution_count": 0,
      "outputs": []
    },
    {
      "cell_type": "markdown",
      "metadata": {
        "id": "Zjwo8Fmehgeq",
        "colab_type": "text"
      },
      "source": [
        "What about variables?"
      ]
    },
    {
      "cell_type": "code",
      "metadata": {
        "id": "aLUT6pXshjWb",
        "colab_type": "code",
        "colab": {}
      },
      "source": [
        "name = 'jim'"
      ],
      "execution_count": 0,
      "outputs": []
    },
    {
      "cell_type": "code",
      "metadata": {
        "id": "PAPNP-ctq4JY",
        "colab_type": "code",
        "colab": {}
      },
      "source": [
        "name"
      ],
      "execution_count": 0,
      "outputs": []
    },
    {
      "cell_type": "code",
      "metadata": {
        "id": "3sywjKVQq__P",
        "colab_type": "code",
        "colab": {}
      },
      "source": [
        "print(name)"
      ],
      "execution_count": 0,
      "outputs": []
    },
    {
      "cell_type": "markdown",
      "metadata": {
        "id": "9V53NXlOPx7s",
        "colab_type": "text"
      },
      "source": [
        "In Python, like JavaScript, variables are not \"strongly typed.\" This means that I can store any \"type\" of thing (strings,  numbers, etc) in a variable. Below we change the `name` variable to an integer.\n",
        "\n",
        "Compare this to what would happen with Arduino code."
      ]
    },
    {
      "cell_type": "code",
      "metadata": {
        "id": "9n4fqYZdzev_",
        "colab_type": "code",
        "colab": {}
      },
      "source": [
        "name = 42"
      ],
      "execution_count": 0,
      "outputs": []
    },
    {
      "cell_type": "markdown",
      "metadata": {
        "id": "h8dY0hVzhmJp",
        "colab_type": "text"
      },
      "source": [
        "Variables are assigned with the equals sign, just like most other programming languages."
      ]
    },
    {
      "cell_type": "markdown",
      "metadata": {
        "id": "mQh6wZFaeiWF",
        "colab_type": "text"
      },
      "source": [
        "Next, let's look at flow control. Here is a basic for loop. Take careful note of the indentation. I put 4 spaces before the print statement.\n",
        "\n",
        "The [Google Python Style Guide](https://github.com/google/styleguide/blob/gh-pages/pyguide.md#s3.4-indentation) advises us to use 4 spaces to indent. This is a widely accepted convention."
      ]
    },
    {
      "cell_type": "code",
      "metadata": {
        "id": "xkgUoDgNet9e",
        "colab_type": "code",
        "colab": {}
      },
      "source": [
        "for i in range(1, 11):\n",
        "    print('number:', i)\n",
        "print('done!')"
      ],
      "execution_count": 0,
      "outputs": []
    },
    {
      "cell_type": "markdown",
      "metadata": {
        "id": "j4nGQKG1tGK_",
        "colab_type": "text"
      },
      "source": [
        "If I were to do the same thing in JavaScript I would write this.\n",
        "\n",
        "```\n",
        "for (i=1; i < 11; i++) {\n",
        "    console.log(i);\n",
        "}\n",
        "```\n",
        "Observe how the indentation replaces the need for curly braces.\n",
        "\n",
        "Python does not use braces to group lines of code. Will it ever use braces in the future?"
      ]
    },
    {
      "cell_type": "code",
      "metadata": {
        "id": "KidIyyN5U2px",
        "colab_type": "code",
        "colab": {}
      },
      "source": [
        "from __future__ import braces"
      ],
      "execution_count": 0,
      "outputs": []
    },
    {
      "cell_type": "markdown",
      "metadata": {
        "id": "GA1bwHxJeyb0",
        "colab_type": "text"
      },
      "source": [
        "And what is that `range` function I used?"
      ]
    },
    {
      "cell_type": "code",
      "metadata": {
        "id": "MjGVb25fexbd",
        "colab_type": "code",
        "colab": {}
      },
      "source": [
        "range(10)"
      ],
      "execution_count": 0,
      "outputs": []
    },
    {
      "cell_type": "markdown",
      "metadata": {
        "id": "uak3cH3rSslu",
        "colab_type": "text"
      },
      "source": [
        "The `range` function is a lazy evaluator of the integers between zero and another number.\n",
        "\n",
        "In this case lazy means it has the potential to count out the numbers from 0 to 9 but won't do so until you actually want to use them. Below I use the `list` keyword to force Python to evaluate the integers and put them in a `list`.\n",
        "\n",
        "The 'lazy' aspect of this is useful when you want a large range like all the numbers from 1 to 1,000,000. If it wasn't lazy it would create the entire list and take up a lot of computer memory."
      ]
    },
    {
      "cell_type": "code",
      "metadata": {
        "id": "m83ya3R-Qhwv",
        "colab_type": "code",
        "colab": {}
      },
      "source": [
        "list(range(10))"
      ],
      "execution_count": 0,
      "outputs": []
    },
    {
      "cell_type": "markdown",
      "metadata": {
        "id": "Rt-YALnSfCie",
        "colab_type": "text"
      },
      "source": [
        "This is a builtin function, much like the `print` command. You'll see `range` used a lot in your Python lives.\n",
        "\n",
        "By default, it starts at zero. You can also specify the start and end values, like so:"
      ]
    },
    {
      "cell_type": "code",
      "metadata": {
        "id": "Cj1NB11YgIYt",
        "colab_type": "code",
        "colab": {}
      },
      "source": [
        "list(range(5, 15))"
      ],
      "execution_count": 0,
      "outputs": []
    },
    {
      "cell_type": "markdown",
      "metadata": {
        "id": "D3kmAWRvgMDV",
        "colab_type": "text"
      },
      "source": [
        "Also notice it starts at the first number and ends 1 number before the second number. This seems unintuitive at first but you'll get used to it. Other things will get complicated later if it wasn't like this, so you'll learn to appreciate it.\n",
        "\n",
        "You can also give a step size:"
      ]
    },
    {
      "cell_type": "code",
      "metadata": {
        "id": "Ee7MVwpugpCu",
        "colab_type": "code",
        "colab": {}
      },
      "source": [
        "list(range(10, 31, 5))"
      ],
      "execution_count": 0,
      "outputs": []
    },
    {
      "cell_type": "code",
      "metadata": {
        "id": "TQQnOipUg4Im",
        "colab_type": "code",
        "colab": {}
      },
      "source": [
        "list(range(30, 20, -1))"
      ],
      "execution_count": 0,
      "outputs": []
    },
    {
      "cell_type": "markdown",
      "metadata": {
        "id": "rZa2ZatlgyeD",
        "colab_type": "text"
      },
      "source": [
        "Next, let's look at a while loop. Again, note the indentation and the lack of curly braces."
      ]
    },
    {
      "cell_type": "code",
      "metadata": {
        "id": "C3Dc2TkGg0O0",
        "colab_type": "code",
        "colab": {}
      },
      "source": [
        "i = 10\n",
        "\n",
        "while i > 0:\n",
        "    if i == 4:\n",
        "        break\n",
        "    print(i)\n",
        "    i = i - 1"
      ],
      "execution_count": 0,
      "outputs": []
    },
    {
      "cell_type": "markdown",
      "metadata": {
        "id": "8bcw7CaVji4l",
        "colab_type": "text"
      },
      "source": [
        "And of course, an `if` statement."
      ]
    },
    {
      "cell_type": "code",
      "metadata": {
        "id": "b0TP_wRFjlsr",
        "colab_type": "code",
        "cellView": "code",
        "colab": {}
      },
      "source": [
        "x = 20\n",
        "\n",
        "if x < 0:\n",
        "    print('negative')\n",
        "else:\n",
        "    print('positive')"
      ],
      "execution_count": 0,
      "outputs": []
    },
    {
      "cell_type": "markdown",
      "metadata": {
        "id": "SSCtLwevUY41",
        "colab_type": "text"
      },
      "source": [
        "Here's an example that uses `elif`. This is useful when you have more than two possible execution paths."
      ]
    },
    {
      "cell_type": "code",
      "metadata": {
        "id": "syZ3mtkTeRlV",
        "colab_type": "code",
        "cellView": "code",
        "colab": {}
      },
      "source": [
        "x = -5\n",
        "\n",
        "if x < 0:\n",
        "    print('negative')\n",
        "elif x > 0:\n",
        "    print('positive')\n",
        "else:\n",
        "    print('zero')"
      ],
      "execution_count": 0,
      "outputs": []
    },
    {
      "cell_type": "markdown",
      "metadata": {
        "id": "4sOKnyNcRjA3",
        "colab_type": "text"
      },
      "source": [
        "# Functions\n",
        "\n",
        "Next we need to know how to define functions. Here's a simple example function:"
      ]
    },
    {
      "cell_type": "code",
      "metadata": {
        "id": "v9NQ3cf8RoNg",
        "colab_type": "code",
        "colab": {}
      },
      "source": [
        "def say_hello_to_the_world():\n",
        "    print('hello world!')\n",
        "    \n",
        "def foo():\n",
        "    print('foo')"
      ],
      "execution_count": 0,
      "outputs": []
    },
    {
      "cell_type": "markdown",
      "metadata": {
        "id": "3M712uNPRuHK",
        "colab_type": "text"
      },
      "source": [
        "Observe that there are no brackets. Also, the function definition starts with the keyword `def`. The code is indented with 4 spaces.\n",
        "\n",
        "Here's how you use a function:"
      ]
    },
    {
      "cell_type": "code",
      "metadata": {
        "id": "4IyYjVlvSLEp",
        "colab_type": "code",
        "colab": {}
      },
      "source": [
        "say_hello_to_the_world()"
      ],
      "execution_count": 0,
      "outputs": []
    },
    {
      "cell_type": "markdown",
      "metadata": {
        "id": "pObp5mVgiDAw",
        "colab_type": "text"
      },
      "source": [
        "Often times you will want a function to accept parameters. You will also want to return values to the caller. Here's how you do that."
      ]
    },
    {
      "cell_type": "code",
      "metadata": {
        "id": "dCsCXTudiJCL",
        "colab_type": "code",
        "colab": {}
      },
      "source": [
        "def square(x):\n",
        "    return x * x\n",
        "\n",
        "square(10)"
      ],
      "execution_count": 0,
      "outputs": []
    },
    {
      "cell_type": "code",
      "metadata": {
        "id": "wVCcaBzG2pYp",
        "colab_type": "code",
        "outputId": "c2914235-4830-49c6-dd17-d12bc2312d02",
        "colab": {
          "base_uri": "https://localhost:8080/",
          "height": 35
        }
      },
      "source": [
        "square(1000)"
      ],
      "execution_count": 0,
      "outputs": [
        {
          "output_type": "execute_result",
          "data": {
            "text/plain": [
              "1000000"
            ]
          },
          "metadata": {
            "tags": []
          },
          "execution_count": 114
        }
      ]
    },
    {
      "cell_type": "code",
      "metadata": {
        "id": "gPWhQNGdiPtC",
        "colab_type": "code",
        "colab": {}
      },
      "source": [
        "def addition(a, b):\n",
        "    c = a + b\n",
        "\n",
        "    return c\n",
        "\n",
        "output = addition(10, 5)\n",
        "\n",
        "output"
      ],
      "execution_count": 0,
      "outputs": []
    },
    {
      "cell_type": "markdown",
      "metadata": {
        "id": "hYaR2TyJhhiS",
        "colab_type": "text"
      },
      "source": [
        "Let's try using what we've learned so far to do something more complicated. Try and guess what these functions do before you run them."
      ]
    },
    {
      "cell_type": "code",
      "metadata": {
        "id": "QymyyHGMSMe-",
        "colab_type": "code",
        "colab": {}
      },
      "source": [
        "def function1(x, y):\n",
        "    for i in range(x, y):\n",
        "        if i % 3 == 0:\n",
        "            print(i)"
      ],
      "execution_count": 0,
      "outputs": []
    },
    {
      "cell_type": "code",
      "metadata": {
        "id": "oekBsXnQjUxE",
        "colab_type": "code",
        "colab": {}
      },
      "source": [
        "function1(20, 50)"
      ],
      "execution_count": 0,
      "outputs": []
    },
    {
      "cell_type": "code",
      "metadata": {
        "id": "uiAc41D4jXPr",
        "colab_type": "code",
        "colab": {}
      },
      "source": [
        "def function2(a, b, c):\n",
        "    x = a + b\n",
        "    y = b * c\n",
        "    \n",
        "    if x < y:\n",
        "        for i in range(x, y):\n",
        "            print(i)\n",
        "    else:\n",
        "        for i in range(y, x, 2):\n",
        "            print(i)"
      ],
      "execution_count": 0,
      "outputs": []
    },
    {
      "cell_type": "code",
      "metadata": {
        "id": "eLK6b6pzkHmv",
        "colab_type": "code",
        "colab": {}
      },
      "source": [
        "function2(2, 5, 3)"
      ],
      "execution_count": 0,
      "outputs": []
    },
    {
      "cell_type": "code",
      "metadata": {
        "id": "wsWrFtjkkL70",
        "colab_type": "code",
        "colab": {}
      },
      "source": [
        "function2(50, 14, 3)"
      ],
      "execution_count": 0,
      "outputs": []
    },
    {
      "cell_type": "markdown",
      "metadata": {
        "id": "2b-5d9fZRbVh",
        "colab_type": "text"
      },
      "source": [
        "# Using the Debugger\n",
        "\n",
        "Occasionally (or more than occasionally) you will write code that does not work correctly.\n",
        "\n",
        "Consider the following function. It will throw an error if the `x` parameter is equal to 10."
      ]
    },
    {
      "cell_type": "code",
      "metadata": {
        "id": "3MH-P9zURlBX",
        "colab_type": "code",
        "colab": {}
      },
      "source": [
        "def function3(x, y):\n",
        "    a = x - 10\n",
        "    b = y + 5\n",
        "    c = b / a\n",
        "    d = a + b + c\n",
        "\n",
        "    return d"
      ],
      "execution_count": 0,
      "outputs": []
    },
    {
      "cell_type": "code",
      "metadata": {
        "id": "D-CbS0hsRlfM",
        "colab_type": "code",
        "colab": {}
      },
      "source": [
        "function3(10, 7)"
      ],
      "execution_count": 0,
      "outputs": []
    },
    {
      "cell_type": "markdown",
      "metadata": {
        "id": "ZiUkGK-CTHg9",
        "colab_type": "text"
      },
      "source": [
        "Let's look inside the function and see what is going on."
      ]
    },
    {
      "cell_type": "code",
      "metadata": {
        "id": "XXXPZvK7SAUJ",
        "colab_type": "code",
        "colab": {}
      },
      "source": [
        "%debug"
      ],
      "execution_count": 0,
      "outputs": []
    },
    {
      "cell_type": "markdown",
      "metadata": {
        "id": "DsayPfz6TPmH",
        "colab_type": "text"
      },
      "source": [
        "Inside the debugger we can use the `print` command to see the values of `a` and `b`. As far as I know you cannot change variable values inside the scope of the function.\n",
        "\n",
        "These are the most important debugger commands for you to get started:\n",
        "\n",
        "* h: help\n",
        "* q: quit\n",
        "* s: advance one line and possibly stepping inside another function\n",
        "* n: advance one line without stepping inside another function\n",
        "* up: move \"up\" one level in the exection stack, moving out of the function you are in\n",
        "* c: run till completion\n",
        "\n",
        "There are a lot of debugger tutorials available online but many of them are a bit confusing and/or use different tools than what I have shown you here. I found this [Jupyter debugger tutorial](http://qingkaikong.blogspot.com/2018/05/python-debug-in-jupyter-notebook.html) that should be helpful. \n",
        "\n",
        "Let's modify our function so that it does not throw a `ZeroDivisionError` exception."
      ]
    },
    {
      "cell_type": "code",
      "metadata": {
        "id": "mpoAvHA6SAZZ",
        "colab_type": "code",
        "colab": {}
      },
      "source": [
        "def function3(x, y):\n",
        "    a = x - 10\n",
        "    if a == 0:\n",
        "        a = 1\n",
        "    b = y + 5\n",
        "    c = b / a\n",
        "    d = a + b + c\n",
        "\n",
        "    return d"
      ],
      "execution_count": 0,
      "outputs": []
    },
    {
      "cell_type": "code",
      "metadata": {
        "id": "OI0PMVoWYUhn",
        "colab_type": "code",
        "colab": {}
      },
      "source": [
        "function3(10, 7)"
      ],
      "execution_count": 0,
      "outputs": []
    },
    {
      "cell_type": "markdown",
      "metadata": {
        "id": "zGKsOLv_YuZL",
        "colab_type": "text"
      },
      "source": [
        "You can also use the debugger to examine code that does not throw an error. Observe the two `%%` signs before debug. This means you will debug the entire cell.\n",
        "\n",
        "After running the next cell you will need to use the 's' command to step through it line by line. Use 'c' when you want it to run to the end."
      ]
    },
    {
      "cell_type": "code",
      "metadata": {
        "id": "TtDZeAB6YVw7",
        "colab_type": "code",
        "colab": {}
      },
      "source": [
        "%%debug\n",
        "\n",
        "function3(10, 7)"
      ],
      "execution_count": 0,
      "outputs": []
    },
    {
      "cell_type": "markdown",
      "metadata": {
        "id": "tkvIH3NadnOu",
        "colab_type": "text"
      },
      "source": [
        "Let's have another look at that complicated function from before. Use the 's' command to step inside the function in the cell and advance one line at a time."
      ]
    },
    {
      "cell_type": "code",
      "metadata": {
        "id": "LxbOOnnOZZ5E",
        "colab_type": "code",
        "colab": {}
      },
      "source": [
        "%%debug\n",
        "\n",
        "function2(40, 14, 3)"
      ],
      "execution_count": 0,
      "outputs": []
    },
    {
      "cell_type": "markdown",
      "metadata": {
        "id": "IxvmluuRjU7O",
        "colab_type": "text"
      },
      "source": [
        "Pro tip: the most important thing to keep in mind when using a debugger is when to use the 's' and 'n' commands. Sometimes you want to step inside another function and sometimes you want to gloss over it. My most frequent mistake is when I step inside a function I didn't want to step inside of. This is particularly odious when you step inside a Python internal function. When this happens, use the 'up' command to move up one level and then 'n'.\n",
        "\n",
        "Try it using this example:"
      ]
    },
    {
      "cell_type": "code",
      "metadata": {
        "id": "aupV0oadgsT6",
        "colab_type": "code",
        "colab": {}
      },
      "source": [
        "def f1(x, y):\n",
        "    print(x)\n",
        "    print(y)\n",
        "\n",
        "    return x + y\n",
        "\n",
        "def f2(x, y):\n",
        "    print(x)\n",
        "    print(y)\n",
        "\n",
        "    z = f1(x, y)\n",
        "\n",
        "    return z + x + y\n"
      ],
      "execution_count": 0,
      "outputs": []
    },
    {
      "cell_type": "code",
      "metadata": {
        "id": "d4mnA6Vtgsce",
        "colab_type": "code",
        "colab": {}
      },
      "source": [
        "%%debug\n",
        "\n",
        "f2(10, 20)"
      ],
      "execution_count": 0,
      "outputs": []
    },
    {
      "cell_type": "markdown",
      "metadata": {
        "id": "eRVeM0w8y3rc",
        "colab_type": "text"
      },
      "source": [
        "# Data Structures\n",
        "\n",
        "Here are the basic data structures you will use frequently.\n",
        "\n",
        "## Dictionary\n",
        "\n",
        "A dictionary is kind of like a [JavaScript Object](https://www.w3schools.com/js/js_objects.asp). It stores key-value pairs. It is kind of like a real dictionary of words. Words are like the keys, and the definitions of those words are like the values. Observe that given a specific word it is fast to get the definition, but given a specific definition it is slow to get the word it is associated with. You'd have to read through entire dictionary to find what you are looking for.\n",
        "\n",
        "Here's how you define a dictionary:"
      ]
    },
    {
      "cell_type": "code",
      "metadata": {
        "id": "UCdq3tb-yve-",
        "colab_type": "code",
        "colab": {}
      },
      "source": [
        "bagel_count = {'plain': 5, 'whole wheat': 0, 'garlic': 14, 'cinnamon': 4, 'onion': 27, 'everything': 11}\n",
        "\n",
        "bagel_count"
      ],
      "execution_count": 0,
      "outputs": []
    },
    {
      "cell_type": "markdown",
      "metadata": {
        "id": "4UM3FOtcHSp6",
        "colab_type": "text"
      },
      "source": [
        "The keys and values can be of any data type:"
      ]
    },
    {
      "cell_type": "code",
      "metadata": {
        "id": "_lz8zmLQHRJj",
        "colab_type": "code",
        "colab": {}
      },
      "source": [
        "player_numbers = {12: 'jill', 34: 'bob', 67: 'edwin', 23: 'sue'}\n",
        "\n",
        "player_numbers"
      ],
      "execution_count": 0,
      "outputs": []
    },
    {
      "cell_type": "markdown",
      "metadata": {
        "id": "VhpPTx4dHlpC",
        "colab_type": "text"
      },
      "source": [
        "You access a dictionary's data with square brackets, like so:"
      ]
    },
    {
      "cell_type": "code",
      "metadata": {
        "id": "IYKHPRX81VYj",
        "colab_type": "code",
        "colab": {}
      },
      "source": [
        "bagel_count['plain']"
      ],
      "execution_count": 0,
      "outputs": []
    },
    {
      "cell_type": "markdown",
      "metadata": {
        "id": "5MGrahnIZxLf",
        "colab_type": "text"
      },
      "source": [
        "If you use a dictionary key that is not in the dictionary you will get an error."
      ]
    },
    {
      "cell_type": "code",
      "metadata": {
        "id": "PZjoM9mIhvfN",
        "colab_type": "code",
        "colab": {}
      },
      "source": [
        "bagel_count['poppy seed']"
      ],
      "execution_count": 0,
      "outputs": []
    },
    {
      "cell_type": "markdown",
      "metadata": {
        "id": "ODkF2v1cRdJ7",
        "colab_type": "text"
      },
      "source": [
        "You can use the `keys()` method to get the list of valid keys:"
      ]
    },
    {
      "cell_type": "code",
      "metadata": {
        "id": "3GJ3sc7u2A_P",
        "colab_type": "code",
        "colab": {}
      },
      "source": [
        "bagel_count.keys()"
      ],
      "execution_count": 0,
      "outputs": []
    },
    {
      "cell_type": "code",
      "metadata": {
        "id": "h-67it5Z8aHN",
        "colab_type": "code",
        "colab": {}
      },
      "source": [
        "bagel_count.pop?"
      ],
      "execution_count": 0,
      "outputs": []
    },
    {
      "cell_type": "markdown",
      "metadata": {
        "id": "5dEguOkjXZj7",
        "colab_type": "text"
      },
      "source": [
        "There is a similar method for `values()`:"
      ]
    },
    {
      "cell_type": "code",
      "metadata": {
        "id": "NFQRdHG2iCua",
        "colab_type": "code",
        "colab": {}
      },
      "source": [
        "bagel_count.values()"
      ],
      "execution_count": 0,
      "outputs": []
    },
    {
      "cell_type": "code",
      "metadata": {
        "id": "pWHz_aTziKlB",
        "colab_type": "code",
        "colab": {}
      },
      "source": [
        "for key in sorted(bagel_count.keys()):\n",
        "    print(key, bagel_count[key])"
      ],
      "execution_count": 0,
      "outputs": []
    },
    {
      "cell_type": "code",
      "metadata": {
        "id": "bcDZGAGQ-YTz",
        "colab_type": "code",
        "colab": {}
      },
      "source": [
        "sorted?iterable, /, *, key=None, reverse=False"
      ],
      "execution_count": 0,
      "outputs": []
    },
    {
      "cell_type": "code",
      "metadata": {
        "id": "5wMXLF6h9xgq",
        "colab_type": "code",
        "outputId": "70223ce2-2fc9-47c6-8f9c-d48777b170c5",
        "colab": {
          "base_uri": "https://localhost:8080/",
          "height": 35
        }
      },
      "source": [
        "sorted(bagel_count.keys(), reverse=True)\n"
      ],
      "execution_count": 0,
      "outputs": [
        {
          "output_type": "execute_result",
          "data": {
            "text/plain": [
              "['whole wheat', 'plain', 'onion', 'garlic', 'everything', 'cinnamon']"
            ]
          },
          "metadata": {
            "tags": []
          },
          "execution_count": 17
        }
      ]
    },
    {
      "cell_type": "markdown",
      "metadata": {
        "id": "txbyUBQCH821",
        "colab_type": "text"
      },
      "source": [
        "You can add new key-value pairs at any time."
      ]
    },
    {
      "cell_type": "code",
      "metadata": {
        "id": "qa2w1-_UH2eg",
        "colab_type": "code",
        "colab": {}
      },
      "source": [
        "bagel_count['poppy seed'] = 2"
      ],
      "execution_count": 0,
      "outputs": []
    },
    {
      "cell_type": "markdown",
      "metadata": {
        "id": "ir2TpkH7IC5I",
        "colab_type": "text"
      },
      "source": [
        "You can also change existing key value pairs."
      ]
    },
    {
      "cell_type": "code",
      "metadata": {
        "id": "gio6JWEKH791",
        "colab_type": "code",
        "colab": {}
      },
      "source": [
        "bagel_count['everything'] = 8"
      ],
      "execution_count": 0,
      "outputs": []
    },
    {
      "cell_type": "markdown",
      "metadata": {
        "id": "JUO347CGIN65",
        "colab_type": "text"
      },
      "source": [
        "You can also remove key-value pairs from dictionaries:"
      ]
    },
    {
      "cell_type": "code",
      "metadata": {
        "id": "VJtmaSN_Ikwq",
        "colab_type": "code",
        "colab": {}
      },
      "source": [
        "bagel_count"
      ],
      "execution_count": 0,
      "outputs": []
    },
    {
      "cell_type": "code",
      "metadata": {
        "id": "uhgVxioGILus",
        "colab_type": "code",
        "colab": {}
      },
      "source": [
        "del bagel_count['poppy seed']\n",
        "\n",
        "\n",
        "bagel_count"
      ],
      "execution_count": 0,
      "outputs": []
    },
    {
      "cell_type": "markdown",
      "metadata": {
        "id": "maENnyZa1bth",
        "colab_type": "text"
      },
      "source": [
        "## Lists\n",
        "\n",
        "The next important datastructure is the Python List. This is an *ordered* collection of objects."
      ]
    },
    {
      "cell_type": "code",
      "metadata": {
        "id": "QGv8_9-r1Tyk",
        "colab_type": "code",
        "colab": {}
      },
      "source": [
        "list1 = [0, 10, 20, 30, 40, 50]\n",
        "\n",
        "list1"
      ],
      "execution_count": 0,
      "outputs": []
    },
    {
      "cell_type": "markdown",
      "metadata": {
        "id": "PqGVDQxGJunm",
        "colab_type": "text"
      },
      "source": [
        "The objects do not have to be the same type."
      ]
    },
    {
      "cell_type": "code",
      "metadata": {
        "id": "nVJBj5g5JxjJ",
        "colab_type": "code",
        "colab": {}
      },
      "source": [
        "list2 = ['zero', 10, 20.0, \"thirty\", 40]\n",
        "\n",
        "list2"
      ],
      "execution_count": 0,
      "outputs": []
    },
    {
      "cell_type": "markdown",
      "metadata": {
        "id": "REPe1XgNJh04",
        "colab_type": "text"
      },
      "source": [
        "You can access items in the list with square brackets."
      ]
    },
    {
      "cell_type": "code",
      "metadata": {
        "id": "LEkCY7e91gp6",
        "colab_type": "code",
        "colab": {}
      },
      "source": [
        "list2[2]"
      ],
      "execution_count": 0,
      "outputs": []
    },
    {
      "cell_type": "markdown",
      "metadata": {
        "id": "mHKaAksAX6X2",
        "colab_type": "text"
      },
      "source": [
        "Observe that indexing with the number 2 gives you the third item in the list. That's because lists use something called \"zero indexing\":"
      ]
    },
    {
      "cell_type": "code",
      "metadata": {
        "id": "Dv6pST-uX-p5",
        "colab_type": "code",
        "colab": {}
      },
      "source": [
        "list2[0]"
      ],
      "execution_count": 0,
      "outputs": []
    },
    {
      "cell_type": "markdown",
      "metadata": {
        "id": "SpyY1jdCKNKq",
        "colab_type": "text"
      },
      "source": [
        "You can change existing values if you want:"
      ]
    },
    {
      "cell_type": "code",
      "metadata": {
        "id": "CqnuvTwxKQxZ",
        "colab_type": "code",
        "colab": {}
      },
      "source": [
        "list2"
      ],
      "execution_count": 0,
      "outputs": []
    },
    {
      "cell_type": "code",
      "metadata": {
        "id": "DjLt8hDdKSgH",
        "colab_type": "code",
        "colab": {}
      },
      "source": [
        "list2[4] = 'forty'\n",
        "\n",
        "list2"
      ],
      "execution_count": 0,
      "outputs": []
    },
    {
      "cell_type": "markdown",
      "metadata": {
        "id": "1KBjWr4BKvrH",
        "colab_type": "text"
      },
      "source": [
        "You can't add new items using the same approach:"
      ]
    },
    {
      "cell_type": "code",
      "metadata": {
        "id": "d2bjy4NRKzB7",
        "colab_type": "code",
        "colab": {}
      },
      "source": [
        "list2[5] = 50"
      ],
      "execution_count": 0,
      "outputs": []
    },
    {
      "cell_type": "markdown",
      "metadata": {
        "id": "WoWQ0Pk4LLyN",
        "colab_type": "text"
      },
      "source": [
        "Instead you have to use an `append` function."
      ]
    },
    {
      "cell_type": "code",
      "metadata": {
        "id": "GcYMuW_Q6HwF",
        "colab_type": "code",
        "colab": {}
      },
      "source": [
        "list2.append(25)"
      ],
      "execution_count": 0,
      "outputs": []
    },
    {
      "cell_type": "code",
      "metadata": {
        "id": "6GKFYU2E6Kkz",
        "colab_type": "code",
        "colab": {}
      },
      "source": [
        "list2"
      ],
      "execution_count": 0,
      "outputs": []
    },
    {
      "cell_type": "code",
      "metadata": {
        "id": "7joacmkIBCs0",
        "colab_type": "code",
        "colab": {}
      },
      "source": [
        "list2.insert(3, 25)"
      ],
      "execution_count": 0,
      "outputs": []
    },
    {
      "cell_type": "code",
      "metadata": {
        "id": "o5kOGNB5BTLt",
        "colab_type": "code",
        "outputId": "7a25b063-c761-4894-ff8e-1fb4b0d9d0a4",
        "colab": {
          "base_uri": "https://localhost:8080/",
          "height": 35
        }
      },
      "source": [
        "list2"
      ],
      "execution_count": 0,
      "outputs": [
        {
          "output_type": "execute_result",
          "data": {
            "text/plain": [
              "['zero', 10, 20.0, 25, 'thirty', 'forty', 25]"
            ]
          },
          "metadata": {
            "tags": []
          },
          "execution_count": 36
        }
      ]
    },
    {
      "cell_type": "markdown",
      "metadata": {
        "id": "JYkAqn-4LShp",
        "colab_type": "text"
      },
      "source": [
        "You can access subsets of the list using square brackets and a colon.\n",
        "\n",
        "start:end:step"
      ]
    },
    {
      "cell_type": "code",
      "metadata": {
        "id": "ouugGb59yvhj",
        "colab_type": "code",
        "colab": {}
      },
      "source": [
        "list2[1:7:2]"
      ],
      "execution_count": 0,
      "outputs": []
    },
    {
      "cell_type": "markdown",
      "metadata": {
        "id": "v2weZQgRLyVB",
        "colab_type": "text"
      },
      "source": [
        "Often times you will use this to get the front or the back of the list. You can leave out one of the endpoints like this:"
      ]
    },
    {
      "cell_type": "code",
      "metadata": {
        "id": "Volow1jeL6mE",
        "colab_type": "code",
        "colab": {}
      },
      "source": [
        "list1[:3]"
      ],
      "execution_count": 0,
      "outputs": []
    },
    {
      "cell_type": "code",
      "metadata": {
        "id": "3CbM2E2dL770",
        "colab_type": "code",
        "colab": {}
      },
      "source": [
        "list1[3:]"
      ],
      "execution_count": 0,
      "outputs": []
    },
    {
      "cell_type": "markdown",
      "metadata": {
        "id": "Q7QIKRO3SA-Q",
        "colab_type": "text"
      },
      "source": [
        "The step value can be negative:"
      ]
    },
    {
      "cell_type": "code",
      "metadata": {
        "id": "0dQu-UszlqbZ",
        "colab_type": "code",
        "colab": {}
      },
      "source": [
        "list1[3:1:-1]"
      ],
      "execution_count": 0,
      "outputs": []
    },
    {
      "cell_type": "markdown",
      "metadata": {
        "id": "EAAOEWRVL--t",
        "colab_type": "text"
      },
      "source": [
        "If you want to access the last item of the list you can use a negative number."
      ]
    },
    {
      "cell_type": "code",
      "metadata": {
        "id": "E4NR4xRuyvj1",
        "colab_type": "code",
        "colab": {}
      },
      "source": [
        "list1[-1]"
      ],
      "execution_count": 0,
      "outputs": []
    },
    {
      "cell_type": "markdown",
      "metadata": {
        "id": "Aar3GQLjMSMG",
        "colab_type": "text"
      },
      "source": [
        "Here's a builtin function you will use a lot. The `len` function will return the number of items in the list."
      ]
    },
    {
      "cell_type": "code",
      "metadata": {
        "id": "Q7Cp0zluMXDm",
        "colab_type": "code",
        "colab": {}
      },
      "source": [
        "len(list1)"
      ],
      "execution_count": 0,
      "outputs": []
    },
    {
      "cell_type": "markdown",
      "metadata": {
        "id": "1CtBvL82MiGD",
        "colab_type": "text"
      },
      "source": [
        "This also works for other data structures, like dictionaries."
      ]
    },
    {
      "cell_type": "code",
      "metadata": {
        "id": "GZoQrqgcMaaP",
        "colab_type": "code",
        "colab": {}
      },
      "source": [
        "len(bagel_count)"
      ],
      "execution_count": 0,
      "outputs": []
    },
    {
      "cell_type": "markdown",
      "metadata": {
        "id": "DB6JhZg0MsP5",
        "colab_type": "text"
      },
      "source": [
        "## Tuples\n",
        "\n",
        "The next data structure is a tuple. This is a lot like a list except it is immutable. That means that once you create it, you cannot change what is in the tuple."
      ]
    },
    {
      "cell_type": "code",
      "metadata": {
        "id": "y59AG1x6M3Lz",
        "colab_type": "code",
        "colab": {}
      },
      "source": [
        "lucky_numbers = (4, 7, 42, 8)\n",
        "\n",
        "lucky_numbers"
      ],
      "execution_count": 0,
      "outputs": []
    },
    {
      "cell_type": "markdown",
      "metadata": {
        "id": "hKLeGQM_NE5T",
        "colab_type": "text"
      },
      "source": [
        "You access tuple items with square brackets."
      ]
    },
    {
      "cell_type": "code",
      "metadata": {
        "id": "dsyMup8wM86f",
        "colab_type": "code",
        "colab": {}
      },
      "source": [
        "lucky_numbers[2]"
      ],
      "execution_count": 0,
      "outputs": []
    },
    {
      "cell_type": "markdown",
      "metadata": {
        "id": "nJLKRHbRNJSH",
        "colab_type": "text"
      },
      "source": [
        "Here's what happens if you try to change a value:"
      ]
    },
    {
      "cell_type": "code",
      "metadata": {
        "id": "-50M-a23M_1O",
        "colab_type": "code",
        "colab": {}
      },
      "source": [
        "lucky_numbers[2] = 13"
      ],
      "execution_count": 0,
      "outputs": []
    },
    {
      "cell_type": "markdown",
      "metadata": {
        "id": "VeRidNc0NTuV",
        "colab_type": "text"
      },
      "source": [
        "You also can't add new items to it either.\n",
        "\n",
        "If tuples have reduced functionality, what good are they?\n",
        "\n",
        "They are useful for dictionaries keys. For example:"
      ]
    },
    {
      "cell_type": "code",
      "metadata": {
        "id": "llP5w0aRN0dg",
        "colab_type": "code",
        "colab": {}
      },
      "source": [
        "test_dictionary1 = {(1, 2): 'one_two', (3, 4): 'three_four', (5, 6): 'five_six'}\n",
        "\n",
        "test_dictionary1"
      ],
      "execution_count": 0,
      "outputs": []
    },
    {
      "cell_type": "code",
      "metadata": {
        "id": "tUqMNNtINy8P",
        "colab_type": "code",
        "colab": {}
      },
      "source": [
        "test_dictionary1[(3, 4)]"
      ],
      "execution_count": 0,
      "outputs": []
    },
    {
      "cell_type": "markdown",
      "metadata": {
        "id": "SbSd1aIDOD5J",
        "colab_type": "text"
      },
      "source": [
        "Now try that with a list:"
      ]
    },
    {
      "cell_type": "code",
      "metadata": {
        "id": "6Jjb5jgQOC2e",
        "colab_type": "code",
        "colab": {}
      },
      "source": [
        "test_dictionary2 = {[1, 2]: 'one_two', [3, 4]: 'three_four', [5, 6]: 'five_six'}"
      ],
      "execution_count": 0,
      "outputs": []
    },
    {
      "cell_type": "markdown",
      "metadata": {
        "id": "9mLlcVPxORRE",
        "colab_type": "text"
      },
      "source": [
        "It give an error.\n",
        "\n",
        "Another common use case is with functions. Often you will write a function and wish to return more than one item."
      ]
    },
    {
      "cell_type": "code",
      "metadata": {
        "id": "4cHDDDN4OZBn",
        "colab_type": "code",
        "colab": {}
      },
      "source": [
        "def test1(x):\n",
        "    return 5 * x, 5 + x"
      ],
      "execution_count": 0,
      "outputs": []
    },
    {
      "cell_type": "code",
      "metadata": {
        "id": "OlG5MDY3PdKy",
        "colab_type": "code",
        "colab": {}
      },
      "source": [
        "test1(4)"
      ],
      "execution_count": 0,
      "outputs": []
    },
    {
      "cell_type": "markdown",
      "metadata": {
        "id": "8EgHovopPiPx",
        "colab_type": "text"
      },
      "source": [
        "Notice a tuple was created without the parentheses.\n",
        "\n",
        "If you want to you can \"unpack\" the response into two variables."
      ]
    },
    {
      "cell_type": "code",
      "metadata": {
        "id": "gtt2haV8PfLF",
        "colab_type": "code",
        "colab": {}
      },
      "source": [
        "a, b = test1(4)\n",
        "\n",
        "print(a)\n",
        "print(b)"
      ],
      "execution_count": 0,
      "outputs": []
    },
    {
      "cell_type": "markdown",
      "metadata": {
        "id": "0FV4pM4tQBDX",
        "colab_type": "text"
      },
      "source": [
        "Question: What will this do?"
      ]
    },
    {
      "cell_type": "code",
      "metadata": {
        "id": "1iZ683crP8mo",
        "colab_type": "code",
        "colab": {}
      },
      "source": [
        "a = 10\n",
        "b = 20\n",
        "\n",
        "a, b = b, a\n",
        "\n",
        "print(a)\n",
        "print(b)"
      ],
      "execution_count": 0,
      "outputs": []
    },
    {
      "cell_type": "markdown",
      "metadata": {
        "id": "i9AL8fEBQNzD",
        "colab_type": "text"
      },
      "source": [
        "Often times you will need to know what datatype something is. Here's how you do that."
      ]
    },
    {
      "cell_type": "code",
      "metadata": {
        "id": "9h67hRn1QHdS",
        "colab_type": "code",
        "colab": {}
      },
      "source": [
        "type(list1)"
      ],
      "execution_count": 0,
      "outputs": []
    },
    {
      "cell_type": "code",
      "metadata": {
        "id": "V1IqJ0CxQv2P",
        "colab_type": "code",
        "colab": {}
      },
      "source": [
        "type(bagel_count)"
      ],
      "execution_count": 0,
      "outputs": []
    },
    {
      "cell_type": "code",
      "metadata": {
        "id": "Mc0XWpGSQxN5",
        "colab_type": "code",
        "colab": {}
      },
      "source": [
        "type(lucky_numbers)"
      ],
      "execution_count": 0,
      "outputs": []
    },
    {
      "cell_type": "markdown",
      "metadata": {
        "id": "RkRV6RPsQ1Wv",
        "colab_type": "text"
      },
      "source": [
        "You can also do this:"
      ]
    },
    {
      "cell_type": "code",
      "metadata": {
        "id": "05ni1-VhQy_m",
        "colab_type": "code",
        "colab": {}
      },
      "source": [
        "if isinstance(bagel_count, dict):\n",
        "    print(\"that's a dictionary!\")\n",
        "else:\n",
        "    print(\"that's not a dictionary :'(\")"
      ],
      "execution_count": 0,
      "outputs": []
    },
    {
      "cell_type": "markdown",
      "metadata": {
        "id": "NDEuzX68lfKI",
        "colab_type": "text"
      },
      "source": [
        "# Comprehensions\n",
        "\n",
        "Now we are going to get a little bit more complicated. Comprehensions are one of the amazing features of Python that I frequently use in my programming. They are kind of like for loops that generate the data structures listed above. To see the value, consider this code:"
      ]
    },
    {
      "cell_type": "code",
      "metadata": {
        "id": "KbPSjlSSl2Bf",
        "colab_type": "code",
        "colab": {}
      },
      "source": [
        "squared_numbers = []\n",
        "\n",
        "for i in range(25):\n",
        "    squared_numbers.append(i * i)\n",
        "\n",
        "squared_numbers"
      ],
      "execution_count": 0,
      "outputs": []
    },
    {
      "cell_type": "markdown",
      "metadata": {
        "id": "94JvRvBQmGIK",
        "colab_type": "text"
      },
      "source": [
        "Wouldn't it be great if you could do that in one line of code?"
      ]
    },
    {
      "cell_type": "code",
      "metadata": {
        "id": "e7ktf9svRCX2",
        "colab_type": "code",
        "colab": {}
      },
      "source": [
        "[i * i for i in range(25)]"
      ],
      "execution_count": 0,
      "outputs": []
    },
    {
      "cell_type": "markdown",
      "metadata": {
        "id": "x5D55KZ1mNS8",
        "colab_type": "text"
      },
      "source": [
        "You can see some of the commonalities. Both use the `for`, `in`, and `range` keywords. The second is more concise.\n",
        "\n",
        "This is especially powerful when combined with functions."
      ]
    },
    {
      "cell_type": "code",
      "metadata": {
        "id": "AbuzlWgwOQEi",
        "colab_type": "code",
        "colab": {}
      },
      "source": [
        "def square(x):\n",
        "    return x * x\n",
        "  \n",
        "[square(i) for i in list1]"
      ],
      "execution_count": 0,
      "outputs": []
    },
    {
      "cell_type": "markdown",
      "metadata": {
        "id": "Zyas0bFmnFH4",
        "colab_type": "text"
      },
      "source": [
        "This also works for dictionaries."
      ]
    },
    {
      "cell_type": "code",
      "metadata": {
        "id": "6ET_7U85NQva",
        "colab_type": "code",
        "colab": {}
      },
      "source": [
        "my_squares = {i: square(i) for i in range(0, 20)}\n",
        "\n",
        "my_squares"
      ],
      "execution_count": 0,
      "outputs": []
    },
    {
      "cell_type": "markdown",
      "metadata": {
        "id": "ga2QWXywnTyV",
        "colab_type": "text"
      },
      "source": [
        "The neat thing about this is you can quickly create large and complicated data structures. You wouldn't want to type in each dictionary or list item like we did above for a large amount of data. Using a comprehension allows you to quickly and easily build a structure that stores a lot of data.\n",
        "\n",
        "These aren't the easiest thing to understand but they are super important and useful."
      ]
    },
    {
      "cell_type": "markdown",
      "metadata": {
        "id": "aVLixlFrnwpR",
        "colab_type": "text"
      },
      "source": [
        "# Nested Data Structures\n",
        "\n",
        "Consider that you can fit one data structure inside another, like so:"
      ]
    },
    {
      "cell_type": "code",
      "metadata": {
        "id": "fnBQsCHOM6na",
        "colab_type": "code",
        "colab": {}
      },
      "source": [
        "foods = {'vegetables': ['carrots', 'peas'], 'fruits': ['apples', 'oranges']}"
      ],
      "execution_count": 0,
      "outputs": []
    },
    {
      "cell_type": "code",
      "metadata": {
        "id": "BRqzYQsEHBa4",
        "colab_type": "code",
        "colab": {}
      },
      "source": [
        "import random"
      ],
      "execution_count": 0,
      "outputs": []
    },
    {
      "cell_type": "code",
      "metadata": {
        "id": "tO0CVTWBHDvu",
        "colab_type": "code",
        "colab": {}
      },
      "source": [
        "random.choice?"
      ],
      "execution_count": 0,
      "outputs": []
    },
    {
      "cell_type": "code",
      "metadata": {
        "id": "WeBxHBc0HiPi",
        "colab_type": "code",
        "colab": {}
      },
      "source": [
        ""
      ],
      "execution_count": 0,
      "outputs": []
    },
    {
      "cell_type": "code",
      "metadata": {
        "id": "uX5zGrHSGoWb",
        "colab_type": "code",
        "outputId": "148a7883-4f62-4796-d595-e9a96fb1bc3a",
        "colab": {
          "base_uri": "https://localhost:8080/",
          "height": 35
        }
      },
      "source": [
        "\n",
        "\n",
        "def random_choice(items):\n",
        "    return random.choice(items)\n",
        "\n",
        "\n",
        "random_choice(foods['fruits'])"
      ],
      "execution_count": 0,
      "outputs": [
        {
          "output_type": "execute_result",
          "data": {
            "text/plain": [
              "'apples'"
            ]
          },
          "metadata": {
            "tags": []
          },
          "execution_count": 90
        }
      ]
    },
    {
      "cell_type": "markdown",
      "metadata": {
        "id": "H8BfuS0zoMyA",
        "colab_type": "text"
      },
      "source": [
        "That is a dictionary with lists as the values."
      ]
    },
    {
      "cell_type": "code",
      "metadata": {
        "id": "ZSftihWyMhTE",
        "colab_type": "code",
        "colab": {}
      },
      "source": [
        "[{'id': 58475, 'city': 'New York'}, {'id': 83753, 'city': 'Washington DC'}]"
      ],
      "execution_count": 0,
      "outputs": []
    },
    {
      "cell_type": "code",
      "metadata": {
        "id": "5WRt6aB0HktF",
        "colab_type": "code",
        "outputId": "b58efdd7-876d-43ae-d06f-ee8dcf9e581a",
        "colab": {
          "base_uri": "https://localhost:8080/",
          "height": 144
        }
      },
      "source": [
        "print(In[90])"
      ],
      "execution_count": 0,
      "outputs": [
        {
          "output_type": "stream",
          "text": [
            "\n",
            "\n",
            "def random_choice(items):\n",
            "    return random.choice(items)\n",
            "\n",
            "\n",
            "random_choice(foods['fruits'])\n"
          ],
          "name": "stdout"
        }
      ]
    },
    {
      "cell_type": "markdown",
      "metadata": {
        "id": "Wj7jq6BFo6il",
        "colab_type": "text"
      },
      "source": [
        "That was a list of dictionaries."
      ]
    },
    {
      "cell_type": "markdown",
      "metadata": {
        "id": "-QzQ8yzGfkNx",
        "colab_type": "text"
      },
      "source": [
        "# Python is amazing and I want to devote my life to it. What should I do next?\n",
        "\n",
        "Great! Here are some resources for you to learn more.\n",
        "\n",
        "Start with [Code Academy](https://www.codecademy.com/learn/learn-python-3). When I was at the Data Incubator we required students to use this to get up to speed on the basics of the language.\n",
        "\n",
        "Google also has a nice [Python Class](https://developers.google.com/edu/python/) available online.\n",
        "\n",
        "I'm also a big fan of [HackerRank](https://www.hackerrank.com/domains/python/py-introduction). This will help you learn more about Python and many other languages.\n",
        "\n",
        "It's also a good idea to have a small project in mind that accomplishes something useful with Python. An accessible book I recommend is [Automate the Boring Stuff with Python](https://automatetheboringstuff.com/). It will show you how to do some basic things like send email or scrape data from websites.\n",
        "\n",
        "And of course, come to my [Python & Data Science](https://itp.nyu.edu/camp2019/session/78) session on Thursday, June 13!"
      ]
    }
  ]
}